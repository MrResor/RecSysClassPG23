{
 "cells": [
  {
   "cell_type": "code",
   "execution_count": 1,
   "id": "74952bc1-9a7c-414a-b6ae-f7f1b5e1effa",
   "metadata": {
    "tags": []
   },
   "outputs": [],
   "source": [
    "from urllib import request\n",
    "import pandas as pd\n",
    "import zipfile\n",
    "import numpy as np\n",
    "import torch\n",
    "import torch.nn as nn\n",
    "from torch.utils.data import Dataset, DataLoader\n",
    "from tqdm import tqdm_notebook\n",
    "import tqdm\n",
    "\n",
    "from torch.optim import SGD,Adam\n",
    "from torch.nn import MSELoss\n",
    "import torch.nn as nn\n",
    "import matplotlib.pyplot as plt"
   ]
  },
  {
   "cell_type": "code",
   "execution_count": 2,
   "id": "1d1e49f1-be2f-4fb1-b044-91b7fab071bc",
   "metadata": {
    "tags": []
   },
   "outputs": [],
   "source": [
    "DATASET_URL = 'http://files.grouplens.org/datasets/movielens/ml-100k.zip'\n",
    "DATASET_ARCHIVE = 'ml-100k.zip'\n",
    "\n",
    "request.urlretrieve(DATASET_URL, DATASET_ARCHIVE)\n",
    "with zipfile.ZipFile(DATASET_ARCHIVE) as archive:\n",
    "    archive.extractall()"
   ]
  },
  {
   "cell_type": "markdown",
   "id": "662ba9e6-54da-4376-b9da-67846defd1c5",
   "metadata": {},
   "source": [
    "### Task 1\n",
    "\n",
    "1. Go over the NCF paper (https://arxiv.org/abs/1708.05031) to understand the architecture of the model\n",
    "2. Implement NCF class. In particular:  \n",
    "    a. implement __init__ to create the model achtecture  \n",
    "    b. initialisation is already implemented for you  \n",
    "    c. implement forward. Forward should take u_id and i_id and return the propability of consumption given u_id and i_id (what is the output layer?)\n",
    "    d. Test your forward by providing some random u_id and i_id"
   ]
  },
  {
   "cell_type": "code",
   "execution_count": 2,
   "id": "eb7af85a-336b-4424-aefd-22814eac48ac",
   "metadata": {
    "tags": []
   },
   "outputs": [],
   "source": [
    "class NeuMF(nn.Module):\n",
    "    def __init__(self, nb_users, nb_items,\n",
    "                 mf_dim, mlp_layer_sizes, dropout=0):\n",
    "        \n",
    "        if mlp_layer_sizes[0] % 2 != 0:\n",
    "            raise RuntimeError('u dummy, mlp_layer_sizes[0] % 2 != 0')\n",
    "        super(NeuMF, self).__init__()\n",
    "        nb_mlp_layers = len(mlp_layer_sizes)\n",
    "        #YOUR TASK: ADD EMBEEDING LAYERS TO THE MODEL - be careful with sizes ~5 lines of code\n",
    "        self.mf_user_embed = nn.Embedding(nb_users, mf_dim)\n",
    "        self.mf_item_embed = nn.Embedding(nb_items, mf_dim)\n",
    "        self.mlp_user_embed = nn.Embedding(nb_users, mlp_layer_sizes[0] // 2)\n",
    "        self.mlp_item_embed = nn.Embedding(nb_items, mlp_layer_sizes[0] // 2)\n",
    "        self.dropout = dropout\n",
    "        #YOUR TASK: ADD MLPs and the final layer ~4-6 lines of code\n",
    "        self.mlp = nn.ModuleList()\n",
    "        for i in range(1, nb_mlp_layers):\n",
    "            self.mlp.extend([nn.Linear(mlp_layer_sizes[i - 1], mlp_layer_sizes[i])])  \n",
    "        self.final = nn.Linear(mlp_layer_sizes[-1] + mf_dim, 1)\n",
    "        #YOUR TASK: Initialze weights ~4 lines of code - use glorot\n",
    "        self.mf_user_embed.weight.data.normal_(0., 0.01)\n",
    "        self.mf_item_embed.weight.data.normal_(0., 0.01)\n",
    "        self.mlp_user_embed.weight.data.normal_(0., 0.01)\n",
    "        self.mlp_item_embed.weight.data.normal_(0., 0.01)\n",
    "        def glorot_uniform(layer):\n",
    "            fan_in, fan_out = layer.in_features, layer.out_features\n",
    "            limit = np.sqrt(6. / (fan_in + fan_out))\n",
    "            layer.weight.data.uniform_(-limit, limit)\n",
    "\n",
    "        def lecunn_uniform(layer):\n",
    "            fan_in, fan_out = layer.in_features, layer.out_features  # noqa: F841, E501\n",
    "            limit = np.sqrt(3. / fan_in)\n",
    "            layer.weight.data.uniform_(-limit, limit)\n",
    "        for layer in self.mlp:\n",
    "            if type(layer) != nn.Linear:\n",
    "                continue\n",
    "            glorot_uniform(layer)\n",
    "        lecunn_uniform(self.final)\n",
    "\n",
    "    def forward(self, user, item, sigmoid=False):\n",
    "        #YOUR TASK: Implement model forward. ~15 lines of code\n",
    "        xmfu = self.mf_user_embed(user)\n",
    "        xmfi = self.mf_item_embed(item)\n",
    "        xmf = xmfu * xmfi\n",
    "\n",
    "        xmlpu = self.mlp_user_embed(user)\n",
    "        xmlpi = self.mlp_item_embed(item)\n",
    "        xmlp = torch.cat((xmlpu, xmlpi), dim=1)\n",
    "        for i, layer in enumerate(self.mlp):\n",
    "            xmlp = layer(xmlp)\n",
    "            xmlp = nn.functional.relu(xmlp)\n",
    "            if self.dropout != 0:\n",
    "                xmlp = nn.functional.dropout(xmlp, p=self.dropout, training=self.training)\n",
    "\n",
    "        x = torch.cat((xmf, xmlp), dim=1)\n",
    "        x = self.final(x)\n",
    "        if sigmoid:\n",
    "            x = torch.sigmoid(x)\n",
    "        return x"
   ]
  },
  {
   "cell_type": "markdown",
   "id": "7fb79876-648f-4ca7-8747-30a549a594c8",
   "metadata": {},
   "source": [
    "### Task 2\n",
    "\n",
    "1. Implement ML100kDataset. In particular:  \n",
    "    a. implement all needed functions that overload PyTorch Dataset\n",
    "    b. Implement negaive sampling. This can be approximated negative sampling negative_samples=n means that if user A has m training points (positive) it will have n*m negive points"
   ]
  },
  {
   "cell_type": "code",
   "execution_count": 3,
   "id": "0c6b869a-f634-40fe-b1c8-c1438017a306",
   "metadata": {
    "tags": []
   },
   "outputs": [],
   "source": [
    "class ML100kDataset(Dataset):\n",
    "    def __init__(self,file_name,negative_samples=1):\n",
    "        ratings_df=pd.read_csv(file_name, header=None, names=['user_id', 'item_id', 'rating', 'timestamp'],delim_whitespace=True)\n",
    "        max_item = np.max(ratings_df['item_id'])\n",
    "        ratings_df.drop(['rating','timestamp'],axis=1,inplace=True)\n",
    "        ratings = torch.from_numpy(ratings_df.values)         \n",
    "        self.negative_samples = negative_samples\n",
    "        self.raw_dataset_length = len(ratings_df.index) \n",
    "        self.length_after_augmentation = self.raw_dataset_length * (self.negative_samples + 1)\n",
    "        #YOUR TASK: Implement negative sampling. ~7 lines of code. NOTE: the dataset does not have to be shuffled, but you can do this!\n",
    "        #Sample neg users\n",
    "        USER,ITEM=0,1\n",
    "        neg_users = ratings[:,USER].repeat(self.negative_samples)\n",
    "        self.users = torch.cat((ratings[:,USER], neg_users))\n",
    "        #sample neg items\n",
    "        neg_items = torch.empty_like(ratings[:,ITEM]).repeat(self.negative_samples).random_(0,max_item)\n",
    "        self.items = torch.cat((ratings[:,ITEM], neg_items))\n",
    "        #labels\n",
    "        neg_label = torch.zeros_like(ratings[:,ITEM], dtype=torch.float32).repeat(self.negative_samples)\n",
    "        self.labels = torch.cat((torch.ones_like(ratings[:,ITEM], dtype=torch.float32), neg_label))\n",
    "\n",
    "    def __len__(self):\n",
    "        return self.length_after_augmentation\n",
    "  \n",
    "    def __getitem__(self,idx):\n",
    "        return self.users[idx],self.items[idx],self.labels[idx]"
   ]
  },
  {
   "cell_type": "markdown",
   "id": "2f688447-fa62-4aa4-a598-e132fd8918e2",
   "metadata": {},
   "source": [
    "### Task 3\n",
    "\n",
    "1. Implement training loop. In particular:  \n",
    "    a. Every epoch you make log average train loss and test/eval loss  \n",
    "    b. use different loss/optimiser/other HP. Use dependency injection to play with them.  \n",
    "    c. Find \"best\" HP during cross-validation.  \n",
    "    d. Check when model overfits with learning curves.  \n",
    "    e. What are the conclusions.  \n",
    "    f*. You can user HR@n from previous excersise to look for overfitting.  \n",
    "    g*. Check the influence of shuffling on your results"
   ]
  },
  {
   "cell_type": "code",
   "execution_count": 12,
   "id": "75100a8a-4c7a-475a-b71f-d0eefba047e9",
   "metadata": {
    "tags": []
   },
   "outputs": [
    {
     "name": "stdout",
     "output_type": "stream",
     "text": [
      "Traininng 0\n"
     ]
    },
    {
     "name": "stderr",
     "output_type": "stream",
     "text": [
      "100%|███████████████████████████████████████████████████████████████████████████████████| 15/15 [00:04<00:00,  3.50it/s]\n"
     ]
    },
    {
     "name": "stdout",
     "output_type": "stream",
     "text": [
      "Traininng 1\n"
     ]
    },
    {
     "name": "stderr",
     "output_type": "stream",
     "text": [
      "100%|███████████████████████████████████████████████████████████████████████████████████| 15/15 [00:03<00:00,  3.93it/s]\n"
     ]
    },
    {
     "name": "stdout",
     "output_type": "stream",
     "text": [
      "Traininng 2\n"
     ]
    },
    {
     "name": "stderr",
     "output_type": "stream",
     "text": [
      "100%|███████████████████████████████████████████████████████████████████████████████████| 15/15 [00:03<00:00,  4.09it/s]\n"
     ]
    },
    {
     "name": "stdout",
     "output_type": "stream",
     "text": [
      "Traininng 3\n"
     ]
    },
    {
     "name": "stderr",
     "output_type": "stream",
     "text": [
      "100%|███████████████████████████████████████████████████████████████████████████████████| 15/15 [00:03<00:00,  3.95it/s]\n"
     ]
    },
    {
     "name": "stdout",
     "output_type": "stream",
     "text": [
      "Traininng 4\n"
     ]
    },
    {
     "name": "stderr",
     "output_type": "stream",
     "text": [
      "100%|███████████████████████████████████████████████████████████████████████████████████| 15/15 [00:03<00:00,  4.13it/s]\n"
     ]
    },
    {
     "name": "stdout",
     "output_type": "stream",
     "text": [
      "Traininng 5\n"
     ]
    },
    {
     "name": "stderr",
     "output_type": "stream",
     "text": [
      "100%|███████████████████████████████████████████████████████████████████████████████████| 15/15 [00:03<00:00,  4.06it/s]\n"
     ]
    },
    {
     "name": "stdout",
     "output_type": "stream",
     "text": [
      "Traininng 6\n"
     ]
    },
    {
     "name": "stderr",
     "output_type": "stream",
     "text": [
      "100%|███████████████████████████████████████████████████████████████████████████████████| 15/15 [00:03<00:00,  4.06it/s]\n"
     ]
    },
    {
     "name": "stdout",
     "output_type": "stream",
     "text": [
      "Traininng 7\n"
     ]
    },
    {
     "name": "stderr",
     "output_type": "stream",
     "text": [
      "100%|███████████████████████████████████████████████████████████████████████████████████| 15/15 [00:03<00:00,  4.17it/s]\n"
     ]
    },
    {
     "name": "stdout",
     "output_type": "stream",
     "text": [
      "Traininng 8\n"
     ]
    },
    {
     "name": "stderr",
     "output_type": "stream",
     "text": [
      "100%|███████████████████████████████████████████████████████████████████████████████████| 15/15 [00:03<00:00,  4.09it/s]\n"
     ]
    },
    {
     "name": "stdout",
     "output_type": "stream",
     "text": [
      "Traininng 9\n"
     ]
    },
    {
     "name": "stderr",
     "output_type": "stream",
     "text": [
      "100%|███████████████████████████████████████████████████████████████████████████████████| 15/15 [00:03<00:00,  3.96it/s]\n"
     ]
    },
    {
     "name": "stdout",
     "output_type": "stream",
     "text": [
      "Traininng 10\n"
     ]
    },
    {
     "name": "stderr",
     "output_type": "stream",
     "text": [
      "100%|███████████████████████████████████████████████████████████████████████████████████| 15/15 [00:04<00:00,  3.62it/s]\n"
     ]
    },
    {
     "name": "stdout",
     "output_type": "stream",
     "text": [
      "Traininng 11\n"
     ]
    },
    {
     "name": "stderr",
     "output_type": "stream",
     "text": [
      "100%|███████████████████████████████████████████████████████████████████████████████████| 15/15 [00:03<00:00,  3.90it/s]\n"
     ]
    },
    {
     "name": "stdout",
     "output_type": "stream",
     "text": [
      "Traininng 12\n"
     ]
    },
    {
     "name": "stderr",
     "output_type": "stream",
     "text": [
      "100%|███████████████████████████████████████████████████████████████████████████████████| 15/15 [00:03<00:00,  3.92it/s]\n"
     ]
    },
    {
     "name": "stdout",
     "output_type": "stream",
     "text": [
      "Traininng 13\n"
     ]
    },
    {
     "name": "stderr",
     "output_type": "stream",
     "text": [
      "100%|███████████████████████████████████████████████████████████████████████████████████| 15/15 [00:03<00:00,  4.02it/s]\n"
     ]
    },
    {
     "name": "stdout",
     "output_type": "stream",
     "text": [
      "Traininng 14\n"
     ]
    },
    {
     "name": "stderr",
     "output_type": "stream",
     "text": [
      "100%|███████████████████████████████████████████████████████████████████████████████████| 15/15 [00:03<00:00,  4.17it/s]\n"
     ]
    },
    {
     "name": "stdout",
     "output_type": "stream",
     "text": [
      "Traininng 15\n"
     ]
    },
    {
     "name": "stderr",
     "output_type": "stream",
     "text": [
      "100%|███████████████████████████████████████████████████████████████████████████████████| 15/15 [00:03<00:00,  4.05it/s]\n"
     ]
    },
    {
     "name": "stdout",
     "output_type": "stream",
     "text": [
      "Traininng 16\n"
     ]
    },
    {
     "name": "stderr",
     "output_type": "stream",
     "text": [
      "100%|███████████████████████████████████████████████████████████████████████████████████| 15/15 [00:03<00:00,  4.07it/s]\n"
     ]
    },
    {
     "name": "stdout",
     "output_type": "stream",
     "text": [
      "Traininng 17\n"
     ]
    },
    {
     "name": "stderr",
     "output_type": "stream",
     "text": [
      "100%|███████████████████████████████████████████████████████████████████████████████████| 15/15 [00:03<00:00,  4.18it/s]\n"
     ]
    },
    {
     "name": "stdout",
     "output_type": "stream",
     "text": [
      "Traininng 18\n"
     ]
    },
    {
     "name": "stderr",
     "output_type": "stream",
     "text": [
      "100%|███████████████████████████████████████████████████████████████████████████████████| 15/15 [00:03<00:00,  4.09it/s]\n"
     ]
    },
    {
     "name": "stdout",
     "output_type": "stream",
     "text": [
      "Traininng 19\n"
     ]
    },
    {
     "name": "stderr",
     "output_type": "stream",
     "text": [
      "100%|███████████████████████████████████████████████████████████████████████████████████| 15/15 [00:03<00:00,  4.06it/s]\n"
     ]
    },
    {
     "name": "stdout",
     "output_type": "stream",
     "text": [
      "Traininng 20\n"
     ]
    },
    {
     "name": "stderr",
     "output_type": "stream",
     "text": [
      "100%|███████████████████████████████████████████████████████████████████████████████████| 15/15 [00:03<00:00,  4.11it/s]\n"
     ]
    },
    {
     "name": "stdout",
     "output_type": "stream",
     "text": [
      "Traininng 21\n"
     ]
    },
    {
     "name": "stderr",
     "output_type": "stream",
     "text": [
      "100%|███████████████████████████████████████████████████████████████████████████████████| 15/15 [00:04<00:00,  3.51it/s]\n"
     ]
    },
    {
     "name": "stdout",
     "output_type": "stream",
     "text": [
      "Traininng 22\n"
     ]
    },
    {
     "name": "stderr",
     "output_type": "stream",
     "text": [
      "100%|███████████████████████████████████████████████████████████████████████████████████| 15/15 [00:03<00:00,  3.94it/s]\n"
     ]
    },
    {
     "name": "stdout",
     "output_type": "stream",
     "text": [
      "Traininng 23\n"
     ]
    },
    {
     "name": "stderr",
     "output_type": "stream",
     "text": [
      "100%|███████████████████████████████████████████████████████████████████████████████████| 15/15 [00:03<00:00,  4.16it/s]\n"
     ]
    },
    {
     "name": "stdout",
     "output_type": "stream",
     "text": [
      "Traininng 24\n"
     ]
    },
    {
     "name": "stderr",
     "output_type": "stream",
     "text": [
      "100%|███████████████████████████████████████████████████████████████████████████████████| 15/15 [00:03<00:00,  4.11it/s]\n"
     ]
    },
    {
     "name": "stdout",
     "output_type": "stream",
     "text": [
      "Traininng 25\n"
     ]
    },
    {
     "name": "stderr",
     "output_type": "stream",
     "text": [
      "100%|███████████████████████████████████████████████████████████████████████████████████| 15/15 [00:04<00:00,  3.48it/s]\n"
     ]
    },
    {
     "name": "stdout",
     "output_type": "stream",
     "text": [
      "Traininng 26\n"
     ]
    },
    {
     "name": "stderr",
     "output_type": "stream",
     "text": [
      "100%|███████████████████████████████████████████████████████████████████████████████████| 15/15 [00:03<00:00,  3.91it/s]\n"
     ]
    },
    {
     "name": "stdout",
     "output_type": "stream",
     "text": [
      "Traininng 27\n"
     ]
    },
    {
     "name": "stderr",
     "output_type": "stream",
     "text": [
      "100%|███████████████████████████████████████████████████████████████████████████████████| 15/15 [00:04<00:00,  3.72it/s]\n"
     ]
    },
    {
     "name": "stdout",
     "output_type": "stream",
     "text": [
      "Traininng 28\n"
     ]
    },
    {
     "name": "stderr",
     "output_type": "stream",
     "text": [
      "100%|███████████████████████████████████████████████████████████████████████████████████| 15/15 [00:03<00:00,  3.78it/s]\n"
     ]
    },
    {
     "name": "stdout",
     "output_type": "stream",
     "text": [
      "Traininng 29\n"
     ]
    },
    {
     "name": "stderr",
     "output_type": "stream",
     "text": [
      "100%|███████████████████████████████████████████████████████████████████████████████████| 15/15 [00:03<00:00,  4.20it/s]\n"
     ]
    },
    {
     "name": "stdout",
     "output_type": "stream",
     "text": [
      "Traininng 30\n"
     ]
    },
    {
     "name": "stderr",
     "output_type": "stream",
     "text": [
      "100%|███████████████████████████████████████████████████████████████████████████████████| 15/15 [00:03<00:00,  4.06it/s]\n"
     ]
    },
    {
     "name": "stdout",
     "output_type": "stream",
     "text": [
      "Traininng 31\n"
     ]
    },
    {
     "name": "stderr",
     "output_type": "stream",
     "text": [
      "100%|███████████████████████████████████████████████████████████████████████████████████| 15/15 [00:03<00:00,  3.82it/s]\n"
     ]
    },
    {
     "name": "stdout",
     "output_type": "stream",
     "text": [
      "Traininng 32\n"
     ]
    },
    {
     "name": "stderr",
     "output_type": "stream",
     "text": [
      "100%|███████████████████████████████████████████████████████████████████████████████████| 15/15 [00:03<00:00,  3.97it/s]\n"
     ]
    },
    {
     "name": "stdout",
     "output_type": "stream",
     "text": [
      "Traininng 33\n"
     ]
    },
    {
     "name": "stderr",
     "output_type": "stream",
     "text": [
      "100%|███████████████████████████████████████████████████████████████████████████████████| 15/15 [00:03<00:00,  4.01it/s]\n"
     ]
    },
    {
     "name": "stdout",
     "output_type": "stream",
     "text": [
      "Traininng 34\n"
     ]
    },
    {
     "name": "stderr",
     "output_type": "stream",
     "text": [
      "100%|███████████████████████████████████████████████████████████████████████████████████| 15/15 [00:03<00:00,  3.93it/s]\n"
     ]
    },
    {
     "name": "stdout",
     "output_type": "stream",
     "text": [
      "Traininng 35\n"
     ]
    },
    {
     "name": "stderr",
     "output_type": "stream",
     "text": [
      "100%|███████████████████████████████████████████████████████████████████████████████████| 15/15 [00:03<00:00,  4.06it/s]\n"
     ]
    },
    {
     "name": "stdout",
     "output_type": "stream",
     "text": [
      "Traininng 36\n"
     ]
    },
    {
     "name": "stderr",
     "output_type": "stream",
     "text": [
      "100%|███████████████████████████████████████████████████████████████████████████████████| 15/15 [00:03<00:00,  4.00it/s]\n"
     ]
    },
    {
     "name": "stdout",
     "output_type": "stream",
     "text": [
      "Traininng 37\n"
     ]
    },
    {
     "name": "stderr",
     "output_type": "stream",
     "text": [
      "100%|███████████████████████████████████████████████████████████████████████████████████| 15/15 [00:03<00:00,  4.05it/s]\n"
     ]
    },
    {
     "name": "stdout",
     "output_type": "stream",
     "text": [
      "Traininng 38\n"
     ]
    },
    {
     "name": "stderr",
     "output_type": "stream",
     "text": [
      "100%|███████████████████████████████████████████████████████████████████████████████████| 15/15 [00:03<00:00,  4.12it/s]\n"
     ]
    },
    {
     "name": "stdout",
     "output_type": "stream",
     "text": [
      "Traininng 39\n"
     ]
    },
    {
     "name": "stderr",
     "output_type": "stream",
     "text": [
      "100%|███████████████████████████████████████████████████████████████████████████████████| 15/15 [00:03<00:00,  3.97it/s]\n"
     ]
    },
    {
     "name": "stdout",
     "output_type": "stream",
     "text": [
      "Traininng 40\n"
     ]
    },
    {
     "name": "stderr",
     "output_type": "stream",
     "text": [
      "100%|███████████████████████████████████████████████████████████████████████████████████| 15/15 [00:03<00:00,  3.99it/s]\n"
     ]
    },
    {
     "name": "stdout",
     "output_type": "stream",
     "text": [
      "Traininng 41\n"
     ]
    },
    {
     "name": "stderr",
     "output_type": "stream",
     "text": [
      "100%|███████████████████████████████████████████████████████████████████████████████████| 15/15 [00:03<00:00,  4.14it/s]\n"
     ]
    },
    {
     "name": "stdout",
     "output_type": "stream",
     "text": [
      "Traininng 42\n"
     ]
    },
    {
     "name": "stderr",
     "output_type": "stream",
     "text": [
      "100%|███████████████████████████████████████████████████████████████████████████████████| 15/15 [00:03<00:00,  4.05it/s]\n"
     ]
    },
    {
     "name": "stdout",
     "output_type": "stream",
     "text": [
      "Traininng 43\n"
     ]
    },
    {
     "name": "stderr",
     "output_type": "stream",
     "text": [
      "100%|███████████████████████████████████████████████████████████████████████████████████| 15/15 [00:03<00:00,  4.06it/s]\n"
     ]
    },
    {
     "name": "stdout",
     "output_type": "stream",
     "text": [
      "Traininng 44\n"
     ]
    },
    {
     "name": "stderr",
     "output_type": "stream",
     "text": [
      "100%|███████████████████████████████████████████████████████████████████████████████████| 15/15 [00:03<00:00,  4.15it/s]\n"
     ]
    },
    {
     "name": "stdout",
     "output_type": "stream",
     "text": [
      "Traininng 45\n"
     ]
    },
    {
     "name": "stderr",
     "output_type": "stream",
     "text": [
      "100%|███████████████████████████████████████████████████████████████████████████████████| 15/15 [00:03<00:00,  3.99it/s]\n"
     ]
    },
    {
     "name": "stdout",
     "output_type": "stream",
     "text": [
      "Traininng 46\n"
     ]
    },
    {
     "name": "stderr",
     "output_type": "stream",
     "text": [
      "100%|███████████████████████████████████████████████████████████████████████████████████| 15/15 [00:03<00:00,  4.05it/s]\n"
     ]
    },
    {
     "name": "stdout",
     "output_type": "stream",
     "text": [
      "Traininng 47\n"
     ]
    },
    {
     "name": "stderr",
     "output_type": "stream",
     "text": [
      "100%|███████████████████████████████████████████████████████████████████████████████████| 15/15 [00:05<00:00,  2.88it/s]\n"
     ]
    },
    {
     "name": "stdout",
     "output_type": "stream",
     "text": [
      "Traininng 48\n"
     ]
    },
    {
     "name": "stderr",
     "output_type": "stream",
     "text": [
      "100%|███████████████████████████████████████████████████████████████████████████████████| 15/15 [00:04<00:00,  3.24it/s]\n"
     ]
    },
    {
     "name": "stdout",
     "output_type": "stream",
     "text": [
      "Traininng 49\n"
     ]
    },
    {
     "name": "stderr",
     "output_type": "stream",
     "text": [
      "100%|███████████████████████████████████████████████████████████████████████████████████| 15/15 [00:04<00:00,  3.44it/s]\n"
     ]
    }
   ],
   "source": [
    "#YOUR TASK: Implement entire training loop for the model with selection of HPs ~25+ lines of code\n",
    "users_num = 943 + 1\n",
    "movies_num = 1682 + 1\n",
    "\n",
    "ds_train = ML100kDataset('ml-100k/u1.base',2)\n",
    "ds_test = ML100kDataset('ml-100k/u1.test',2)\n",
    "# create a data loader for train and test sets\n",
    "train_dl = DataLoader(ds_train, batch_size=16*1024,shuffle=True)\n",
    "test_dl = DataLoader(ds_test, batch_size=16*1024, shuffle=False)\n",
    "model = NeuMF(users_num,movies_num,16,[128,64,32])\n",
    "criterion = nn.BCELoss()\n",
    "optimizer = Adam(model.parameters(), lr=0.001)\n",
    "test_loss = []\n",
    "train_loss = []\n",
    "for epoch in range(50):\n",
    "    model.train()\n",
    "    tr_loss=[]\n",
    "    print(\"Traininng \"+str(epoch))\n",
    "    for (u,i,l) in tqdm.tqdm(train_dl):\n",
    "        # clear the gradients\n",
    "        optimizer.zero_grad()\n",
    "        # compute the model output\n",
    "        yhat = model(u,i,sigmoid=True)\n",
    "        l = l.unsqueeze(1)\n",
    "        # calculate loss\n",
    "        loss = criterion(yhat, l)\n",
    "        tr_loss.append(loss.detach().numpy())\n",
    "        # credit assignment\n",
    "        loss.backward()\n",
    "        # update model weights\n",
    "        optimizer.step()\n",
    "    train_loss.append(np.mean(tr_loss))\n",
    "    model.eval()\n",
    "    predictions = []\n",
    "    with torch.no_grad():\n",
    "        t_loss=[]\n",
    "        for i, (u,i,l) in enumerate(test_dl):\n",
    "            yhat = model(u, i, sigmoid=True)\n",
    "            predictions.append(yhat)\n",
    "            l = l.unsqueeze(1)\n",
    "            tl = criterion(yhat, l)\n",
    "            t_loss.append(tl) \n",
    "        test_loss.append(np.mean(t_loss))"
   ]
  },
  {
   "cell_type": "markdown",
   "id": "98a39045-18d7-470d-8bae-99105a27c5d7",
   "metadata": {
    "tags": []
   },
   "source": [
    "### Plot results"
   ]
  },
  {
   "cell_type": "code",
   "execution_count": 6,
   "id": "fb7e927a-44e4-4504-b24f-dbf1cc501ecb",
   "metadata": {
    "tags": []
   },
   "outputs": [
    {
     "data": {
      "image/png": "[encoded data removed]",
      "text/plain": [
       "<Figure size 640x480 with 1 Axes>"
      ]
     },
     "metadata": {},
     "output_type": "display_data"
    }
   ],
   "source": [
    "plt.plot(train_loss,label='train_loss vs epoch')\n",
    "plt.plot(test_loss,label='test_loss vs epoch')\n",
    "plt.legend()\n",
    "plt.show()"
   ]
  },
  {
   "cell_type": "markdown",
   "id": "0fcc3404-50fd-4d04-b721-1739f1f6ae0f",
   "metadata": {},
   "source": [
    "### Your task\n",
    "1. Find best HP of the model by crossvalidation\n",
    "2. for every user provide the recommendation, calculate HR@10 (as in the previous excersise)"
   ]
  },
  {
   "cell_type": "code",
   "execution_count": 5,
   "id": "df0dd4d9-b7f5-4a42-a1e2-1d4bf631f62d",
   "metadata": {
    "tags": []
   },
   "outputs": [],
   "source": [
    "import copy\n",
    "from collections import Counter"
   ]
  },
  {
   "cell_type": "code",
   "execution_count": 68,
   "id": "61248352-5470-40de-89c8-090acb1fa190",
   "metadata": {
    "tags": []
   },
   "outputs": [],
   "source": [
    "def HR_at_n(R,R_hat,R_exclude, nu, ni, n=10):\n",
    "    \"\"\"\n",
    "    Calculates HR@n based on true ratings from R and ratings estimations R_hat excluding the ones included in train dataset R_exclude.\n",
    "    params:\n",
    "         R (torch.utils.data.dataloader.DataLoader): DataLoader class storing test dataset.\n",
    "         R_hat (list[torch.Tensor]): list of tensors, coresponds to predictions done based on test dataset.\n",
    "         R_exclude (torch.utils.data.dataloader.DataLoader): DataLoader class storing train dataset. Used to check what should be excluded from HR calculations (e.g. it was used for training).\n",
    "         n (int): length of recommendation.\n",
    "         nu (int): number of users.\n",
    "         ni (int): number of items (movies).\n",
    "    returns:\n",
    "         hr_total: calculated hit rate.\n",
    "        \n",
    "    \"\"\"\n",
    "    # concatenate data from dataloader\n",
    "    for index, (u, i, l) in enumerate(R_exclude):\n",
    "        if not index:\n",
    "            u_exclude = u\n",
    "            i_exclude = i\n",
    "            l_exclude = l\n",
    "        else:\n",
    "            torch.cat((u_exclude, u))\n",
    "            torch.cat((i_exclude, i))\n",
    "            torch.cat((l_exclude, l))\n",
    "\n",
    "    for index, ((u, i, l), r_hat) in enumerate(zip(R, R_hat)):\n",
    "        if not index:\n",
    "            R_u = u\n",
    "            R_i = i\n",
    "            R_l = l\n",
    "            R_hat = r_hat\n",
    "        else:\n",
    "            torch.cat((R_u, u))\n",
    "            torch.cat((R_i, i))\n",
    "            torch.cat((R_l, l))\n",
    "            torch.cat((R_hat, r_hat))\n",
    "\n",
    "    R_hat = R_hat.flatten()\n",
    "\n",
    "    #exclude_items_cnt = np.sum(R_exclude>0,axis=1)\n",
    "    ones = (i_exclude == 1).nonzero()\n",
    "    users = u_exclude[ones]\n",
    "    exclude_items_cnt = Counter(users)\n",
    "    \n",
    "    #R_hat[R_exclude>0] = -np.inf\n",
    "    umatch = torch.tensor([v in torch.unique(users) for v in R_u])\n",
    "    imatch = torch.tensor([v in torch.unique(i_exclude[ones]) for v in R_i])\n",
    "    match = torch.logical_and(imatch, umatch)\n",
    "    R_hat[match] = -float(\"inf\")\n",
    "    \n",
    "    #test_items_cnt = np.sum(R>0,axis=1)\n",
    "    test_items_cnt = Counter(R_u[(R_i == 1).nonzero()])\n",
    "\n",
    "    hr_total = 0\n",
    "    for user_id in range(nu):\n",
    "        min_end = min(n, ni - exclude_items_cnt[user_id])\n",
    "        #pred_items_for_user = pred_items[user_id,:min_end]\n",
    "        ones = R_u == user_id\n",
    "        tmp = R_hat[ones]\n",
    "        tmp1 = R_i[ones]\n",
    "        pred_items_for_user = tmp1[tmp.argsort()].numpy()[::-1]\n",
    "        pred_items_for_user = pred_items_for_user[:min_end]\n",
    "        tmp = R_l[ones]\n",
    "        tmp1 = R_i[ones]\n",
    "        tmp2 = tmp1[tmp.argsort()].numpy()[::-1]\n",
    "        # this part would not make sense to keep it the old way. There it made sense that movies that had higher rating would\n",
    "        # be at the begining, the same as strong predictions, but here there are 0 and 1. Movie may be there, but on different position,\n",
    "        # making hitrate practically always zero, hence modification was made\n",
    "        # proper_itemscnt_for_user = np.sum(np.in1d(pred_items_for_user, tmp2[:min_end]))\n",
    "        proper_itemscnt_for_user = np.sum([m in pred_items_for_user for m in tmp[2:min_end]])\n",
    "        if test_items_cnt[user_id] > 0:\n",
    "            hr_for_user = proper_itemscnt_for_user/min(n, test_items_cnt[user_id])\n",
    "            hr_total += hr_for_user\n",
    "    hr_total /= nu\n",
    "    \n",
    "    return hr_total\n",
    "\n",
    "def func(ds_num, dim, sizes):\n",
    "    #YOUR TASK: Implement entire training loop for the model with selection of HPs ~25+ lines of code\n",
    "    users_num = 943 + 1\n",
    "    movies_num = 1682 + 1\n",
    "\n",
    "    ds_train = ML100kDataset(f'ml-100k/u{ds_num}.base',2)\n",
    "    ds_test = ML100kDataset(f'ml-100k/u{ds_num}.test',2)\n",
    "    # create a data loader for train and test sets\n",
    "    train_dl = DataLoader(ds_train, batch_size=16*1024,shuffle=True)\n",
    "    test_dl = DataLoader(ds_test, batch_size=16*1024, shuffle=False)\n",
    "    model = NeuMF(users_num,movies_num,dim,sizes)\n",
    "    criterion = nn.BCELoss()\n",
    "    optimizer = Adam(model.parameters(), lr=0.001)\n",
    "    test_loss = []\n",
    "    train_loss = []\n",
    "    for epoch in range(50):\n",
    "        model.train()\n",
    "        tr_loss=[]\n",
    "        for (u,i,l) in tqdm.tqdm(train_dl, leave=False, desc=\"Traininng \"+str(epoch)):\n",
    "            # clear the gradients\n",
    "            optimizer.zero_grad()\n",
    "            # compute the model output\n",
    "            yhat = model(u,i,sigmoid=True)\n",
    "            l = l.unsqueeze(1)\n",
    "            # calculate loss\n",
    "            loss = criterion(yhat, l)\n",
    "            tr_loss.append(loss.detach().numpy())\n",
    "            # credit assignment\n",
    "            loss.backward()\n",
    "            # update model weights\n",
    "            optimizer.step()\n",
    "        train_loss.append(np.mean(tr_loss))\n",
    "        model.eval()\n",
    "        predictions = []\n",
    "        with torch.no_grad():\n",
    "            t_loss=[]\n",
    "            for i, (u,i,l) in enumerate(test_dl):\n",
    "                yhat = model(u, i, sigmoid=True)\n",
    "                predictions.append(yhat)\n",
    "                l = l.unsqueeze(1)\n",
    "                tl = criterion(yhat, l)\n",
    "                t_loss.append(tl) \n",
    "            test_loss.append(np.mean(t_loss))\n",
    "    return HR_at_n(test_dl, predictions, train_dl, users_num, movies_num, 10)"
   ]
  },
  {
   "cell_type": "code",
   "execution_count": 71,
   "id": "c521442f-ab84-44f3-9c66-cc969b0568d1",
   "metadata": {
    "tags": []
   },
   "outputs": [
    {
     "name": "stdout",
     "output_type": "stream",
     "text": [
      "8\n",
      "[128, 64]\n"
     ]
    },
    {
     "name": "stderr",
     "output_type": "stream",
     "text": [
      "                                                                                                                        \r"
     ]
    },
    {
     "name": "stdout",
     "output_type": "stream",
     "text": [
      "[64, 32, 16]\n"
     ]
    },
    {
     "name": "stderr",
     "output_type": "stream",
     "text": [
      "                                                                                                                        \r"
     ]
    },
    {
     "name": "stdout",
     "output_type": "stream",
     "text": [
      "[128, 64, 32]\n"
     ]
    },
    {
     "name": "stderr",
     "output_type": "stream",
     "text": [
      "                                                                                                                        \r"
     ]
    },
    {
     "name": "stdout",
     "output_type": "stream",
     "text": [
      "[256, 128, 64]\n"
     ]
    },
    {
     "name": "stderr",
     "output_type": "stream",
     "text": [
      "                                                                                                                        \r"
     ]
    },
    {
     "name": "stdout",
     "output_type": "stream",
     "text": [
      "[256, 128, 64, 32]\n"
     ]
    },
    {
     "name": "stderr",
     "output_type": "stream",
     "text": [
      "                                                                                                                        \r"
     ]
    },
    {
     "name": "stdout",
     "output_type": "stream",
     "text": [
      "12\n",
      "[128, 64]\n"
     ]
    },
    {
     "name": "stderr",
     "output_type": "stream",
     "text": [
      "                                                                                                                        \r"
     ]
    },
    {
     "name": "stdout",
     "output_type": "stream",
     "text": [
      "[64, 32, 16]\n"
     ]
    },
    {
     "name": "stderr",
     "output_type": "stream",
     "text": [
      "                                                                                                                        \r"
     ]
    },
    {
     "name": "stdout",
     "output_type": "stream",
     "text": [
      "[128, 64, 32]\n"
     ]
    },
    {
     "name": "stderr",
     "output_type": "stream",
     "text": [
      "                                                                                                                        \r"
     ]
    },
    {
     "name": "stdout",
     "output_type": "stream",
     "text": [
      "[256, 128, 64]\n"
     ]
    },
    {
     "name": "stderr",
     "output_type": "stream",
     "text": [
      "                                                                                                                        \r"
     ]
    },
    {
     "name": "stdout",
     "output_type": "stream",
     "text": [
      "[256, 128, 64, 32]\n"
     ]
    },
    {
     "name": "stderr",
     "output_type": "stream",
     "text": [
      "                                                                                                                        \r"
     ]
    },
    {
     "name": "stdout",
     "output_type": "stream",
     "text": [
      "16\n",
      "[128, 64]\n"
     ]
    },
    {
     "name": "stderr",
     "output_type": "stream",
     "text": [
      "                                                                                                                        \r"
     ]
    },
    {
     "name": "stdout",
     "output_type": "stream",
     "text": [
      "[64, 32, 16]\n"
     ]
    },
    {
     "name": "stderr",
     "output_type": "stream",
     "text": [
      "                                                                                                                        \r"
     ]
    },
    {
     "name": "stdout",
     "output_type": "stream",
     "text": [
      "[128, 64, 32]\n"
     ]
    },
    {
     "name": "stderr",
     "output_type": "stream",
     "text": [
      "                                                                                                                        \r"
     ]
    },
    {
     "name": "stdout",
     "output_type": "stream",
     "text": [
      "[256, 128, 64]\n"
     ]
    },
    {
     "name": "stderr",
     "output_type": "stream",
     "text": [
      "                                                                                                                        \r"
     ]
    },
    {
     "name": "stdout",
     "output_type": "stream",
     "text": [
      "[256, 128, 64, 32]\n"
     ]
    },
    {
     "name": "stderr",
     "output_type": "stream",
     "text": [
      "                                                                                                                        \r"
     ]
    },
    {
     "name": "stdout",
     "output_type": "stream",
     "text": [
      "20\n",
      "[128, 64]\n"
     ]
    },
    {
     "name": "stderr",
     "output_type": "stream",
     "text": [
      "                                                                                                                        \r"
     ]
    },
    {
     "name": "stdout",
     "output_type": "stream",
     "text": [
      "[64, 32, 16]\n"
     ]
    },
    {
     "name": "stderr",
     "output_type": "stream",
     "text": [
      "                                                                                                                        \r"
     ]
    },
    {
     "name": "stdout",
     "output_type": "stream",
     "text": [
      "[128, 64, 32]\n"
     ]
    },
    {
     "name": "stderr",
     "output_type": "stream",
     "text": [
      "                                                                                                                        \r"
     ]
    },
    {
     "name": "stdout",
     "output_type": "stream",
     "text": [
      "[256, 128, 64]\n"
     ]
    },
    {
     "name": "stderr",
     "output_type": "stream",
     "text": [
      "                                                                                                                        \r"
     ]
    },
    {
     "name": "stdout",
     "output_type": "stream",
     "text": [
      "[256, 128, 64, 32]\n"
     ]
    },
    {
     "name": "stderr",
     "output_type": "stream",
     "text": [
      "                                                                                                                        \r"
     ]
    },
    {
     "name": "stdout",
     "output_type": "stream",
     "text": [
      "24\n",
      "[128, 64]\n"
     ]
    },
    {
     "name": "stderr",
     "output_type": "stream",
     "text": [
      "                                                                                                                        \r"
     ]
    },
    {
     "name": "stdout",
     "output_type": "stream",
     "text": [
      "[64, 32, 16]\n"
     ]
    },
    {
     "name": "stderr",
     "output_type": "stream",
     "text": [
      "                                                                                                                        \r"
     ]
    },
    {
     "name": "stdout",
     "output_type": "stream",
     "text": [
      "[128, 64, 32]\n"
     ]
    },
    {
     "name": "stderr",
     "output_type": "stream",
     "text": [
      "                                                                                                                        \r"
     ]
    },
    {
     "name": "stdout",
     "output_type": "stream",
     "text": [
      "[256, 128, 64]\n"
     ]
    },
    {
     "name": "stderr",
     "output_type": "stream",
     "text": [
      "                                                                                                                        \r"
     ]
    },
    {
     "name": "stdout",
     "output_type": "stream",
     "text": [
      "[256, 128, 64, 32]\n"
     ]
    },
    {
     "name": "stderr",
     "output_type": "stream",
     "text": [
      "                                                                                                                        \r"
     ]
    },
    {
     "name": "stdout",
     "output_type": "stream",
     "text": [
      "[[8, [128, 64], 0.0], [8, [64, 32, 16], 0.0], [8, [128, 64, 32], 0.0], [8, [256, 128, 64], 0.0], [8, [256, 128, 64, 32], 0.0], [12, [128, 64], 0.0], [12, [64, 32, 16], 0.0], [12, [128, 64, 32], 0.0], [12, [256, 128, 64], 0.0], [12, [256, 128, 64, 32], 0.0], [16, [128, 64], 0.0], [16, [64, 32, 16], 0.0], [16, [128, 64, 32], 0.0], [16, [256, 128, 64], 0.0], [16, [256, 128, 64, 32], 0.0], [20, [128, 64], 0.0], [20, [64, 32, 16], 0.0], [20, [128, 64, 32], 0.0], [20, [256, 128, 64], 0.0], [20, [256, 128, 64, 32], 0.0], [24, [128, 64], 0.0], [24, [64, 32, 16], 0.0], [24, [128, 64, 32], 0.0], [24, [256, 128, 64], 0.0], [24, [256, 128, 64, 32], 0.0]]\n"
     ]
    }
   ],
   "source": [
    "results = []\n",
    "for dim in [8, 12, 16, 20, 24]:\n",
    "    print(dim)\n",
    "    for sizes in [[128, 64], [64, 32, 16], [128, 64, 32], [256, 128, 64], [256, 128, 64, 32]]:\n",
    "        print(sizes)\n",
    "        hr = []\n",
    "        for fold in range(1,6):\n",
    "            hr.append(func(fold, dim, sizes))\n",
    "        results.append([dim, sizes, np.sum(hr) / 5])\n",
    "print(results)"
   ]
  },
  {
   "cell_type": "markdown",
   "id": "cb32300b-04a2-45b3-a375-406a0779f4be",
   "metadata": {
    "tags": []
   },
   "source": [
    "One can notice that most of the results are 0, but lets check to be sure."
   ]
  },
  {
   "cell_type": "code",
   "execution_count": 75,
   "id": "b8c1caaa-92d0-47eb-a19e-119795c80727",
   "metadata": {
    "tags": []
   },
   "outputs": [
    {
     "data": {
      "text/plain": [
       "array([0.0], dtype=object)"
      ]
     },
     "execution_count": 75,
     "metadata": {},
     "output_type": "execute_result"
    }
   ],
   "source": [
    "res = np.array(results, dtype=\"object\")\n",
    "np.unique(res[:, 2])"
   ]
  },
  {
   "cell_type": "markdown",
   "id": "7de64f14-edd5-43be-8b1b-9bcd5c66495f",
   "metadata": {},
   "source": [
    "Because the results are all equall to zero, there is no point in looking for the best HP, There is a chance that there were some other results than 0, but with high enough precision that they were ignored. The error probably stems either from the way data was prepaired (unlike before, the ratings are not taken from the file and instead random values are inputed) or error in the implementation of HR@n calculating function. It is a copy of the one provided in model based aproach fucntion and modified to work for this type of data, but maybe other approach was needed. However, due to how long the computation are on my machine (the HP tuning process above took 9 hours) it is hard to test an other possibilites of HR calculating functions, as it would take another 9 hours (the current iteration of HR@N is optimised enough to calculate in arround 4 seconds, unlike previous one that needed 10 minutes)."
   ]
  },
  {
   "cell_type": "code",
   "execution_count": null,
   "id": "fb377566-40db-4615-87ef-7fcfb36111d2",
   "metadata": {},
   "outputs": [],
   "source": []
  }
 ],
 "metadata": {
  "kernelspec": {
   "display_name": "Python 3 (ipykernel)",
   "language": "python",
   "name": "python3"
  },
  "language_info": {
   "codemirror_mode": {
    "name": "ipython",
    "version": 3
   },
   "file_extension": ".py",
   "mimetype": "text/x-python",
   "name": "python",
   "nbconvert_exporter": "python",
   "pygments_lexer": "ipython3",
   "version": "3.8.10"
  }
 },
 "nbformat": 4,
 "nbformat_minor": 5
}
