{
 "cells": [
  {
   "cell_type": "code",
   "execution_count": 1,
   "metadata": {},
   "outputs": [],
   "source": [
    "from urllib import request\n",
    "import zipfile\n",
    "import time\n",
    "\n",
    "import numpy as np\n",
    "import pandas as pd\n",
    "import matplotlib.pyplot as plt"
   ]
  },
  {
   "cell_type": "code",
   "execution_count": 2,
   "metadata": {},
   "outputs": [
    {
     "data": {
      "text/plain": [
       "'3.8.10 (default, Mar 15 2022, 12:22:08) \\n[GCC 9.4.0]'"
      ]
     },
     "execution_count": 2,
     "metadata": {},
     "output_type": "execute_result"
    }
   ],
   "source": [
    "import sys\n",
    "sys.version"
   ]
  },
  {
   "cell_type": "markdown",
   "metadata": {},
   "source": [
    "Accessing data:"
   ]
  },
  {
   "cell_type": "code",
   "execution_count": 3,
   "metadata": {},
   "outputs": [],
   "source": [
    "DATASET_URL = 'http://files.grouplens.org/datasets/movielens/ml-100k.zip'\n",
    "DATASET_ARCHIVE = 'ml-100k.zip'\n",
    "\n",
    "request.urlretrieve(DATASET_URL, DATASET_ARCHIVE)\n",
    "with zipfile.ZipFile(DATASET_ARCHIVE) as archive:\n",
    "    archive.extractall()"
   ]
  },
  {
   "cell_type": "markdown",
   "metadata": {},
   "source": [
    "# Exploratory Analysis "
   ]
  },
  {
   "cell_type": "markdown",
   "metadata": {},
   "source": [
    "### YOUR TASK:\n",
    "1. Check readme file (especially DETAILED DESCRIPTIONS OF DATA FILES section)"
   ]
  },
  {
   "cell_type": "markdown",
   "metadata": {},
   "source": [
    "This data set consists of:\n",
    "   * 100,000 ratings (1-5) from 943 users on 1682 movies. \n",
    "   * Each user has rated at least 20 movies. "
   ]
  },
  {
   "cell_type": "code",
   "execution_count": 4,
   "metadata": {},
   "outputs": [],
   "source": [
    "users_num = 943\n",
    "movies_num = 1682"
   ]
  },
  {
   "cell_type": "markdown",
   "metadata": {},
   "source": [
    "How our data looks?"
   ]
  },
  {
   "cell_type": "code",
   "execution_count": 5,
   "metadata": {},
   "outputs": [],
   "source": [
    "df = pd.read_csv('ml-100k/u.data', header=None, names=['user_id', 'item_id', 'rating', 'timestamp'], \n",
    "                 delim_whitespace=True)"
   ]
  },
  {
   "cell_type": "code",
   "execution_count": 6,
   "metadata": {},
   "outputs": [
    {
     "data": {
      "text/html": [
       "<div>\n",
       "<style scoped>\n",
       "    .dataframe tbody tr th:only-of-type {\n",
       "        vertical-align: middle;\n",
       "    }\n",
       "\n",
       "    .dataframe tbody tr th {\n",
       "        vertical-align: top;\n",
       "    }\n",
       "\n",
       "    .dataframe thead th {\n",
       "        text-align: right;\n",
       "    }\n",
       "</style>\n",
       "<table border=\"1\" class=\"dataframe\">\n",
       "  <thead>\n",
       "    <tr style=\"text-align: right;\">\n",
       "      <th></th>\n",
       "      <th>user_id</th>\n",
       "      <th>item_id</th>\n",
       "      <th>rating</th>\n",
       "      <th>timestamp</th>\n",
       "    </tr>\n",
       "  </thead>\n",
       "  <tbody>\n",
       "    <tr>\n",
       "      <th>0</th>\n",
       "      <td>196</td>\n",
       "      <td>242</td>\n",
       "      <td>3</td>\n",
       "      <td>881250949</td>\n",
       "    </tr>\n",
       "    <tr>\n",
       "      <th>1</th>\n",
       "      <td>186</td>\n",
       "      <td>302</td>\n",
       "      <td>3</td>\n",
       "      <td>891717742</td>\n",
       "    </tr>\n",
       "    <tr>\n",
       "      <th>2</th>\n",
       "      <td>22</td>\n",
       "      <td>377</td>\n",
       "      <td>1</td>\n",
       "      <td>878887116</td>\n",
       "    </tr>\n",
       "    <tr>\n",
       "      <th>3</th>\n",
       "      <td>244</td>\n",
       "      <td>51</td>\n",
       "      <td>2</td>\n",
       "      <td>880606923</td>\n",
       "    </tr>\n",
       "    <tr>\n",
       "      <th>4</th>\n",
       "      <td>166</td>\n",
       "      <td>346</td>\n",
       "      <td>1</td>\n",
       "      <td>886397596</td>\n",
       "    </tr>\n",
       "  </tbody>\n",
       "</table>\n",
       "</div>"
      ],
      "text/plain": [
       "   user_id  item_id  rating  timestamp\n",
       "0      196      242       3  881250949\n",
       "1      186      302       3  891717742\n",
       "2       22      377       1  878887116\n",
       "3      244       51       2  880606923\n",
       "4      166      346       1  886397596"
      ]
     },
     "execution_count": 6,
     "metadata": {},
     "output_type": "execute_result"
    }
   ],
   "source": [
    "df.head()"
   ]
  },
  {
   "cell_type": "code",
   "execution_count": 7,
   "metadata": {},
   "outputs": [
    {
     "data": {
      "text/html": [
       "<div>\n",
       "<style scoped>\n",
       "    .dataframe tbody tr th:only-of-type {\n",
       "        vertical-align: middle;\n",
       "    }\n",
       "\n",
       "    .dataframe tbody tr th {\n",
       "        vertical-align: top;\n",
       "    }\n",
       "\n",
       "    .dataframe thead th {\n",
       "        text-align: right;\n",
       "    }\n",
       "</style>\n",
       "<table border=\"1\" class=\"dataframe\">\n",
       "  <thead>\n",
       "    <tr style=\"text-align: right;\">\n",
       "      <th></th>\n",
       "      <th>user_id</th>\n",
       "      <th>item_id</th>\n",
       "      <th>rating</th>\n",
       "      <th>timestamp</th>\n",
       "    </tr>\n",
       "  </thead>\n",
       "  <tbody>\n",
       "    <tr>\n",
       "      <th>99995</th>\n",
       "      <td>880</td>\n",
       "      <td>476</td>\n",
       "      <td>3</td>\n",
       "      <td>880175444</td>\n",
       "    </tr>\n",
       "    <tr>\n",
       "      <th>99996</th>\n",
       "      <td>716</td>\n",
       "      <td>204</td>\n",
       "      <td>5</td>\n",
       "      <td>879795543</td>\n",
       "    </tr>\n",
       "    <tr>\n",
       "      <th>99997</th>\n",
       "      <td>276</td>\n",
       "      <td>1090</td>\n",
       "      <td>1</td>\n",
       "      <td>874795795</td>\n",
       "    </tr>\n",
       "    <tr>\n",
       "      <th>99998</th>\n",
       "      <td>13</td>\n",
       "      <td>225</td>\n",
       "      <td>2</td>\n",
       "      <td>882399156</td>\n",
       "    </tr>\n",
       "    <tr>\n",
       "      <th>99999</th>\n",
       "      <td>12</td>\n",
       "      <td>203</td>\n",
       "      <td>3</td>\n",
       "      <td>879959583</td>\n",
       "    </tr>\n",
       "  </tbody>\n",
       "</table>\n",
       "</div>"
      ],
      "text/plain": [
       "       user_id  item_id  rating  timestamp\n",
       "99995      880      476       3  880175444\n",
       "99996      716      204       5  879795543\n",
       "99997      276     1090       1  874795795\n",
       "99998       13      225       2  882399156\n",
       "99999       12      203       3  879959583"
      ]
     },
     "execution_count": 7,
     "metadata": {},
     "output_type": "execute_result"
    }
   ],
   "source": [
    "df.tail()"
   ]
  },
  {
   "cell_type": "markdown",
   "metadata": {},
   "source": [
    "Check if every pair (user, item) appears only once"
   ]
  },
  {
   "cell_type": "code",
   "execution_count": 8,
   "metadata": {},
   "outputs": [
    {
     "data": {
      "text/plain": [
       "1"
      ]
     },
     "execution_count": 8,
     "metadata": {},
     "output_type": "execute_result"
    }
   ],
   "source": [
    "df.groupby(['user_id','item_id']).count().reset_index()['timestamp'].max()"
   ]
  },
  {
   "cell_type": "markdown",
   "metadata": {},
   "source": [
    "Check for nan"
   ]
  },
  {
   "cell_type": "code",
   "execution_count": 9,
   "metadata": {},
   "outputs": [
    {
     "data": {
      "text/plain": [
       "array([3, 1, 2, 4, 5])"
      ]
     },
     "execution_count": 9,
     "metadata": {},
     "output_type": "execute_result"
    }
   ],
   "source": [
    "df['rating'].unique()"
   ]
  },
  {
   "cell_type": "markdown",
   "metadata": {},
   "source": [
    "Ratings distribution"
   ]
  },
  {
   "cell_type": "code",
   "execution_count": 10,
   "metadata": {},
   "outputs": [
    {
     "data": {
      "text/plain": [
       "<Axes: ylabel='Frequency'>"
      ]
     },
     "execution_count": 10,
     "metadata": {},
     "output_type": "execute_result"
    },
    {
     "data": {
      "image/png": "[encoded data removed]",
      "text/plain": [
       "<Figure size 640x480 with 1 Axes>"
      ]
     },
     "metadata": {},
     "output_type": "display_data"
    }
   ],
   "source": [
    "df['rating'].plot.hist(xticks=[1,2,3,4,5])"
   ]
  },
  {
   "cell_type": "markdown",
   "metadata": {},
   "source": [
    "Choose one movie from u.info file and check its ratings"
   ]
  },
  {
   "cell_type": "code",
   "execution_count": 11,
   "metadata": {},
   "outputs": [
    {
     "data": {
      "text/plain": [
       "<Axes: ylabel='Frequency'>"
      ]
     },
     "execution_count": 11,
     "metadata": {},
     "output_type": "execute_result"
    },
    {
     "data": {
      "image/png": "[encoded data removed]",
      "text/plain": [
       "<Figure size 640x480 with 1 Axes>"
      ]
     },
     "metadata": {},
     "output_type": "display_data"
    }
   ],
   "source": [
    "#168 = 'Monty Python and the Holy Grail' \n",
    "df[df.item_id == 168]['rating'].plot.hist(xticks=[1,2,3,4,5])"
   ]
  },
  {
   "cell_type": "markdown",
   "metadata": {},
   "source": [
    "#### Sparsity"
   ]
  },
  {
   "cell_type": "code",
   "execution_count": 12,
   "metadata": {},
   "outputs": [
    {
     "data": {
      "text/html": [
       "<div>\n",
       "<style scoped>\n",
       "    .dataframe tbody tr th:only-of-type {\n",
       "        vertical-align: middle;\n",
       "    }\n",
       "\n",
       "    .dataframe tbody tr th {\n",
       "        vertical-align: top;\n",
       "    }\n",
       "\n",
       "    .dataframe thead th {\n",
       "        text-align: right;\n",
       "    }\n",
       "</style>\n",
       "<table border=\"1\" class=\"dataframe\">\n",
       "  <thead>\n",
       "    <tr style=\"text-align: right;\">\n",
       "      <th></th>\n",
       "      <th>rating_count</th>\n",
       "    </tr>\n",
       "    <tr>\n",
       "      <th>user_id</th>\n",
       "      <th></th>\n",
       "    </tr>\n",
       "  </thead>\n",
       "  <tbody>\n",
       "    <tr>\n",
       "      <th>405</th>\n",
       "      <td>737</td>\n",
       "    </tr>\n",
       "    <tr>\n",
       "      <th>655</th>\n",
       "      <td>685</td>\n",
       "    </tr>\n",
       "    <tr>\n",
       "      <th>13</th>\n",
       "      <td>636</td>\n",
       "    </tr>\n",
       "    <tr>\n",
       "      <th>450</th>\n",
       "      <td>540</td>\n",
       "    </tr>\n",
       "    <tr>\n",
       "      <th>276</th>\n",
       "      <td>518</td>\n",
       "    </tr>\n",
       "  </tbody>\n",
       "</table>\n",
       "</div>"
      ],
      "text/plain": [
       "         rating_count\n",
       "user_id              \n",
       "405               737\n",
       "655               685\n",
       "13                636\n",
       "450               540\n",
       "276               518"
      ]
     },
     "execution_count": 12,
     "metadata": {},
     "output_type": "execute_result"
    }
   ],
   "source": [
    "grouped = df[['user_id', 'item_id']].groupby('user_id').count() \\\n",
    "            .rename(columns={'item_id' : 'rating_count' }).sort_values('rating_count',ascending=False)\n",
    "grouped.head()"
   ]
  },
  {
   "cell_type": "code",
   "execution_count": 13,
   "metadata": {},
   "outputs": [
    {
     "data": {
      "text/html": [
       "<div>\n",
       "<style scoped>\n",
       "    .dataframe tbody tr th:only-of-type {\n",
       "        vertical-align: middle;\n",
       "    }\n",
       "\n",
       "    .dataframe tbody tr th {\n",
       "        vertical-align: top;\n",
       "    }\n",
       "\n",
       "    .dataframe thead th {\n",
       "        text-align: right;\n",
       "    }\n",
       "</style>\n",
       "<table border=\"1\" class=\"dataframe\">\n",
       "  <thead>\n",
       "    <tr style=\"text-align: right;\">\n",
       "      <th></th>\n",
       "      <th>rating_count</th>\n",
       "      <th>sparsity</th>\n",
       "    </tr>\n",
       "    <tr>\n",
       "      <th>user_id</th>\n",
       "      <th></th>\n",
       "      <th></th>\n",
       "    </tr>\n",
       "  </thead>\n",
       "  <tbody>\n",
       "    <tr>\n",
       "      <th>405</th>\n",
       "      <td>737</td>\n",
       "      <td>0.561831</td>\n",
       "    </tr>\n",
       "    <tr>\n",
       "      <th>655</th>\n",
       "      <td>685</td>\n",
       "      <td>0.592747</td>\n",
       "    </tr>\n",
       "    <tr>\n",
       "      <th>13</th>\n",
       "      <td>636</td>\n",
       "      <td>0.621879</td>\n",
       "    </tr>\n",
       "    <tr>\n",
       "      <th>450</th>\n",
       "      <td>540</td>\n",
       "      <td>0.678954</td>\n",
       "    </tr>\n",
       "    <tr>\n",
       "      <th>276</th>\n",
       "      <td>518</td>\n",
       "      <td>0.692033</td>\n",
       "    </tr>\n",
       "  </tbody>\n",
       "</table>\n",
       "</div>"
      ],
      "text/plain": [
       "         rating_count  sparsity\n",
       "user_id                        \n",
       "405               737  0.561831\n",
       "655               685  0.592747\n",
       "13                636  0.621879\n",
       "450               540  0.678954\n",
       "276               518  0.692033"
      ]
     },
     "execution_count": 13,
     "metadata": {},
     "output_type": "execute_result"
    }
   ],
   "source": [
    "grouped['sparsity'] = 1.0 - grouped.rating_count / float(movies_num)\n",
    "grouped.head()"
   ]
  },
  {
   "cell_type": "code",
   "execution_count": 14,
   "metadata": {},
   "outputs": [
    {
     "data": {
      "text/plain": [
       "0.9369533063577546"
      ]
     },
     "execution_count": 14,
     "metadata": {},
     "output_type": "execute_result"
    }
   ],
   "source": [
    "np.average(grouped['sparsity'])"
   ]
  },
  {
   "cell_type": "code",
   "execution_count": 15,
   "metadata": {},
   "outputs": [
    {
     "data": {
      "text/plain": [
       "<Axes: ylabel='Frequency'>"
      ]
     },
     "execution_count": 15,
     "metadata": {},
     "output_type": "execute_result"
    },
    {
     "data": {
      "image/png": "[encoded data removed]",
      "text/plain": [
       "<Figure size 640x480 with 1 Axes>"
      ]
     },
     "metadata": {},
     "output_type": "display_data"
    }
   ],
   "source": [
    "grouped['sparsity'].plot.hist(xticks=[i*0.05 for i in range(1,21)])"
   ]
  },
  {
   "cell_type": "code",
   "execution_count": 16,
   "metadata": {},
   "outputs": [
    {
     "data": {
      "text/plain": [
       "<Axes: ylabel='Frequency'>"
      ]
     },
     "execution_count": 16,
     "metadata": {},
     "output_type": "execute_result"
    },
    {
     "data": {
      "image/png": "[encoded data removed]",
      "text/plain": [
       "<Figure size 640x480 with 1 Axes>"
      ]
     },
     "metadata": {},
     "output_type": "display_data"
    }
   ],
   "source": [
    "grouped['sparsity'].plot.hist(xticks=[0.5+i*0.05 for i in range(10)])"
   ]
  },
  {
   "cell_type": "markdown",
   "metadata": {},
   "source": [
    "Reindex ids to numpy's like"
   ]
  },
  {
   "cell_type": "code",
   "execution_count": 17,
   "metadata": {},
   "outputs": [
    {
     "data": {
      "text/plain": [
       "[(1, 943), (1, 1682)]"
      ]
     },
     "execution_count": 17,
     "metadata": {},
     "output_type": "execute_result"
    }
   ],
   "source": [
    "[(df[x].min(),df[x].max()) for  x in ['user_id', 'item_id']]"
   ]
  },
  {
   "cell_type": "code",
   "execution_count": 18,
   "metadata": {},
   "outputs": [],
   "source": [
    "for col in  ['user_id', 'item_id']:\n",
    "    df[col] = df[col]-1"
   ]
  },
  {
   "cell_type": "code",
   "execution_count": 19,
   "metadata": {},
   "outputs": [
    {
     "data": {
      "text/plain": [
       "[(0, 942), (0, 1681)]"
      ]
     },
     "execution_count": 19,
     "metadata": {},
     "output_type": "execute_result"
    }
   ],
   "source": [
    "[(df[x].min(),df[x].max()) for  x in ['user_id', 'item_id']]"
   ]
  },
  {
   "cell_type": "markdown",
   "metadata": {},
   "source": [
    "# User-User CF\n",
    "\n",
    "Firstly we want to have our data in form of matrix, where rows coresponds to users, columns to items and values to ratings\n",
    "\n",
    "YOUR TASK:\n",
    "1. get reccomendation matrix, where users are in rows and movies are in columns\n",
    "2. What to do with missing values (i.e. pairs of users,movie that have no rating in our dataset)?\n",
    "3. We want this matrix to be called 'ratings_matrix' and be a np.ndarray type\n",
    "\n",
    "tip: check dataframe.pivot or pd.crosstab"
   ]
  },
  {
   "cell_type": "code",
   "execution_count": 21,
   "metadata": {
    "tags": []
   },
   "outputs": [
    {
     "data": {
      "text/plain": [
       "array([[5., 3., 4., ..., 0., 0., 0.],\n",
       "       [4., 0., 0., ..., 0., 0., 0.],\n",
       "       [0., 0., 0., ..., 0., 0., 0.],\n",
       "       ...,\n",
       "       [5., 0., 0., ..., 0., 0., 0.],\n",
       "       [0., 0., 0., ..., 0., 0., 0.],\n",
       "       [0., 5., 0., ..., 0., 0., 0.]])"
      ]
     },
     "execution_count": 21,
     "metadata": {},
     "output_type": "execute_result"
    }
   ],
   "source": [
    "# Place your code here ~1-2lines\n",
    "ratings_matrix = np.array(df.pivot(index='user_id', columns='item_id', values='rating').fillna(0).values)\n",
    "ratings_matrix"
   ]
  },
  {
   "cell_type": "markdown",
   "metadata": {},
   "source": [
    "Similarity functions:\n",
    "* Jackard similarity\n",
    "* cosine similarity\n",
    "* Pearson correlation"
   ]
  },
  {
   "cell_type": "code",
   "execution_count": 88,
   "metadata": {},
   "outputs": [
    {
     "data": {
      "text/plain": [
       "(943, 943)"
      ]
     },
     "execution_count": 88,
     "metadata": {},
     "output_type": "execute_result"
    }
   ],
   "source": [
    "def jackard_similarity_distance(M):\n",
    "    n,k = M.shape\n",
    "    distance_matrix = np.zeros([n,n])\n",
    "    for i in range(n):\n",
    "        for j in range(n):\n",
    "            vec_sum = float(np.count_nonzero(M[i]+M[j]))\n",
    "            if vec_sum == 0:\n",
    "                distance_matrix[i,j] = 1\n",
    "            else:\n",
    "                distance_matrix[i,j] = 1 - np.count_nonzero(M[i]*M[j]) / vec_sum\n",
    "    return distance_matrix\n",
    "\n",
    "jackard_similarity_distance(ratings_matrix).shape"
   ]
  },
  {
   "cell_type": "markdown",
   "metadata": {},
   "source": [
    "## YOUR TASK\n",
    "1. Implement cosine_similarity_distance based on jackard_similarity_distance\n",
    "2. Implement scipy_pearson_similarity_distance based on jackard_similarity_distance"
   ]
  },
  {
   "cell_type": "code",
   "execution_count": 89,
   "metadata": {},
   "outputs": [],
   "source": [
    "def cosine_similarity_distance(M):\n",
    "    n,k = M.shape\n",
    "    distance_matrix = np.zeros([n,n])\n",
    "    for i in range(n):\n",
    "        for j in range(n):    \n",
    "            if np.count_nonzero(M[i] + M[j]) == 0:\n",
    "                distance_matrix[i,j] = 1\n",
    "            else:\n",
    "                numerator = float(np.sum(M[i]*M[j]))\n",
    "                denominator = np.sqrt(np.sum(M[i]*M[i]))*np.sqrt(np.sum(M[j]*M[j]))\n",
    "                if denominator==0:\n",
    "                    distance_matrix[i,j]= 1\n",
    "                else:\n",
    "                    distance_matrix[i,j] = 1 - numerator / float(denominator)\n",
    "    return distance_matrix"
   ]
  },
  {
   "cell_type": "code",
   "execution_count": 90,
   "metadata": {},
   "outputs": [],
   "source": [
    "def better_cosine_similarity_distance(M, conf_factor=50.0):\n",
    "    n,k = M.shape\n",
    "    conf_factor = float(min(k,conf_factor))\n",
    "    distance_matrix = np.array(np.zeros(n*n))\n",
    "    distance_matrix.shape = (n,n)\n",
    "    for i in range(n):\n",
    "        for j in range(n):\n",
    "            vec_sum = float(np.count_nonzero(M[i]+M[j]))\n",
    "            if(vec_sum==0):\n",
    "                distance_matrix[i,j] = 1\n",
    "            else:\n",
    "                v1 = M[i]\n",
    "                v2 = M[j]\n",
    "                nz_idx = np.intersect1d(np.nonzero(v1),np.nonzero(v2))\n",
    "                #nz_avg = (np.count_nonzero(v1) + np.count_nonzero(v2))/2.0\n",
    "                if (len(nz_idx)==0):\n",
    "                    distance_matrix[i,j] = 1\n",
    "                    continue\n",
    "                v1 = v1[nz_idx]\n",
    "                v2 = v2[nz_idx]\n",
    "                numerator = float(np.sum(v1*v2))\n",
    "                denominator = np.sqrt(np.sum(v1*v1))*np.sqrt(np.sum(v2*v2))\n",
    "                if denominator==0:\n",
    "                     with np.printoptions(threshold=np.inf):\n",
    "                        print(v1,v2)\n",
    "                        distance_matrix[i,j] = 1\n",
    "                else:\n",
    "                    distance_matrix[i,j] = 1 - np.min([1.0,len(nz_idx)/float(conf_factor)])*numerator/denominator\n",
    "                #distance_matrix[i,j] = 1 - (len(nz_idx)/nz_avg)*numerator/denominator\n",
    "    return distance_matrix "
   ]
  },
  {
   "cell_type": "code",
   "execution_count": 91,
   "metadata": {},
   "outputs": [],
   "source": [
    "from scipy.stats.stats import pearsonr\n",
    "\n",
    "def scipy_pearson_similarity_distance(M):\n",
    "    n,k = M.shape\n",
    "    distance_matrix = np.zeros([n,n])\n",
    "    for i in range(n):\n",
    "        for j in range(n):\n",
    "            if np.count_nonzero(M[i]*M[j])==0:\n",
    "                distance_matrix[i,j] = 1\n",
    "            else:\n",
    "                distance_matrix[i,j] = 1 - pearsonr(M[i],M[j])[0]\n",
    "    return distance_matrix"
   ]
  },
  {
   "cell_type": "markdown",
   "metadata": {},
   "source": [
    "k- nearest neighboors"
   ]
  },
  {
   "cell_type": "code",
   "execution_count": 92,
   "metadata": {},
   "outputs": [],
   "source": [
    "def knn(ratings_matrix, k, similarity_function):\n",
    "    dist_matrix = similarity_function(ratings_matrix)\n",
    "    idx = np.argsort(dist_matrix)[:,1:k+1]\n",
    "    sorted_dist = np.take_along_axis(dist_matrix, idx, axis=1) #np.sort(dist_matrix)[:,1:k+1]\n",
    "    return idx, sorted_dist"
   ]
  },
  {
   "cell_type": "code",
   "execution_count": 93,
   "metadata": {},
   "outputs": [],
   "source": [
    "def calculate_recommendation(ratings_matrix, neighbors, distances):\n",
    "    u,k = neighbors.shape\n",
    "    p = ratings_matrix.shape[1]\n",
    "    rating_matrix_ind = np.array(ratings_matrix!=0, dtype=float)\n",
    "    recommendation_matrix = np.zeros([u,p])\n",
    "    for i in range(u):\n",
    "        for j in range(p):\n",
    "            numerator = np.sum((1-distances[i,:])*ratings_matrix[neighbors[i],j])\n",
    "            denominator = np.sum((1-distances[i,:])*rating_matrix_ind[neighbors[i],j])\n",
    "            if(denominator==0):\n",
    "                recommendation_matrix[i,j] = 0\n",
    "            else:\n",
    "                recommendation_matrix[i,j] = numerator / float(denominator)\n",
    "    return recommendation_matrix"
   ]
  },
  {
   "cell_type": "code",
   "execution_count": 94,
   "metadata": {},
   "outputs": [
    {
     "data": {
      "text/plain": [
       "array([[1., 1., 1., ..., 0., 0., 0.],\n",
       "       [1., 0., 0., ..., 0., 0., 0.],\n",
       "       [0., 0., 0., ..., 0., 0., 0.],\n",
       "       ...,\n",
       "       [1., 0., 0., ..., 0., 0., 0.],\n",
       "       [0., 0., 0., ..., 0., 0., 0.],\n",
       "       [0., 1., 0., ..., 0., 0., 0.]])"
      ]
     },
     "execution_count": 94,
     "metadata": {},
     "output_type": "execute_result"
    }
   ],
   "source": [
    "rating_ind = np.array(ratings_matrix!=0, dtype=float)\n",
    "rating_ind"
   ]
  },
  {
   "cell_type": "code",
   "execution_count": 95,
   "metadata": {},
   "outputs": [],
   "source": [
    "def get_recommendation(recommendation_matrix, n):\n",
    "    rating_ind = np.array(ratings_matrix!=0, dtype=float)\n",
    "    recommendation = np.argsort(-np.multiply(recommendation_matrix,1-rating_ind))[:,:n]\n",
    "    ratings = np.take_along_axis(recommendation_matrix, recommendation, axis=1) \n",
    "    return recommendation, ratings"
   ]
  },
  {
   "cell_type": "markdown",
   "metadata": {},
   "source": [
    "# Item-Item CF"
   ]
  },
  {
   "cell_type": "code",
   "execution_count": 96,
   "metadata": {},
   "outputs": [
    {
     "data": {
      "text/plain": [
       "array([[5., 4., 0., ..., 5., 0., 0.],\n",
       "       [3., 0., 0., ..., 0., 0., 5.],\n",
       "       [4., 0., 0., ..., 0., 0., 0.],\n",
       "       ...,\n",
       "       [0., 0., 0., ..., 0., 0., 0.],\n",
       "       [0., 0., 0., ..., 0., 0., 0.],\n",
       "       [0., 0., 0., ..., 0., 0., 0.]])"
      ]
     },
     "execution_count": 96,
     "metadata": {},
     "output_type": "execute_result"
    }
   ],
   "source": [
    "ratings_item_matrix = np.array(df.pivot(index='item_id', columns='user_id', values='rating').fillna(0).values)\n",
    "ratings_item_matrix"
   ]
  },
  {
   "cell_type": "code",
   "execution_count": 97,
   "metadata": {},
   "outputs": [],
   "source": [
    "ratings_item_ind = np.array(ratings_item_matrix!=0, dtype= float)"
   ]
  },
  {
   "cell_type": "code",
   "execution_count": 98,
   "metadata": {},
   "outputs": [],
   "source": [
    "def calculate_recommendation_item_based(ratings_matrix, item_neighbors, item_distances): # to get arguments run previous knn \n",
    "    # on ratings_item_matrix\n",
    "    p,k = item_neighbors.shape\n",
    "    u = ratings_matrix.shape[0]\n",
    "    rating_matrix_ind = np.array(ratings_matrix!=0, dtype=float)\n",
    "    recommendation_matrix = np.array(np.zeros(u*p))\n",
    "    recommendation_matrix.shape = (u,p)\n",
    "    for i in range(u):\n",
    "        for j in range(p):\n",
    "            numerator = np.sum((1-item_distances[j,:])*ratings_matrix[i,item_neighbors[j]])\n",
    "            denominator = np.sum((1-item_distances[j,:])*rating_matrix_ind[i, item_neighbors[j]])\n",
    "            if(denominator==0):\n",
    "                recommendation_matrix[i,j] = 0\n",
    "            else:\n",
    "                recommendation_matrix[i,j] = numerator / float(denominator)\n",
    "    return recommendation_matrix"
   ]
  },
  {
   "cell_type": "code",
   "execution_count": 99,
   "metadata": {},
   "outputs": [],
   "source": [
    "item_neighbors, item_distances = knn(ratings_item_matrix, 3, cosine_similarity_distance)"
   ]
  },
  {
   "cell_type": "code",
   "execution_count": 100,
   "metadata": {},
   "outputs": [],
   "source": [
    "recommendation_matrix = calculate_recommendation_item_based(ratings_matrix, item_neighbors, item_distances)"
   ]
  },
  {
   "cell_type": "markdown",
   "metadata": {},
   "source": [
    "### RMSE"
   ]
  },
  {
   "cell_type": "code",
   "execution_count": 101,
   "metadata": {},
   "outputs": [],
   "source": [
    "def rmse(ratings_matrix,recommendation_matrix, test_ind):\n",
    "    X = np.multiply((ratings_matrix-recommendation_matrix), test_ind)\n",
    "    Y = np.sum(np.multiply(X,X))\n",
    "    Z= np.sum(test_ind)\n",
    "    return np.sqrt(Y / Z)"
   ]
  },
  {
   "cell_type": "markdown",
   "metadata": {},
   "source": [
    "# Testing"
   ]
  },
  {
   "cell_type": "code",
   "execution_count": 102,
   "metadata": {},
   "outputs": [],
   "source": [
    "train_1 = pd.read_csv('ml-100k/u1.base', header=None, names=['user_id', 'item_id', 'rating', 'timestamp'], \n",
    "                 delim_whitespace=True)\n",
    "test_1 = pd.read_csv('ml-100k/u1.test', header=None, names=['user_id', 'item_id', 'rating', 'timestamp'], \n",
    "                 delim_whitespace=True)"
   ]
  },
  {
   "cell_type": "code",
   "execution_count": 103,
   "metadata": {},
   "outputs": [],
   "source": [
    "for col in  ['user_id', 'item_id']:\n",
    "    train_1[col] = train_1[col]-1\n",
    "    test_1[col] = test_1[col]-1"
   ]
  },
  {
   "cell_type": "code",
   "execution_count": 104,
   "metadata": {},
   "outputs": [],
   "source": [
    "train_1_ratings_matrix = np.array(pd.crosstab(index=pd.Categorical(train_1['user_id'],categories = [i for i in range(943)]), \n",
    "                              columns=pd.Categorical(train_1['item_id'],categories = [i for i in range(1682)]),\n",
    "                             values=train_1['rating'], aggfunc=np.sum, dropna= False).fillna(0).values)\n",
    "test_1_ratings_matrix = np.array(pd.crosstab(index=pd.Categorical(test_1['user_id'],categories = [i for i in range(943)]), \n",
    "                              columns=pd.Categorical(test_1['item_id'],categories = [i for i in range(1682)]),\n",
    "                             values=test_1['rating'], aggfunc=np.sum, dropna= False).fillna(0).values)"
   ]
  },
  {
   "cell_type": "code",
   "execution_count": 105,
   "metadata": {},
   "outputs": [],
   "source": [
    "train_1_if_filled = np.array(train_1_ratings_matrix!=0, dtype=float)\n",
    "test_1_if_filled = np.array(test_1_ratings_matrix!=0, dtype=float)"
   ]
  },
  {
   "cell_type": "markdown",
   "metadata": {},
   "source": [
    "Check if train + test is equal to full data_set"
   ]
  },
  {
   "cell_type": "code",
   "execution_count": 106,
   "metadata": {},
   "outputs": [
    {
     "data": {
      "text/plain": [
       "True"
      ]
     },
     "execution_count": 106,
     "metadata": {},
     "output_type": "execute_result"
    }
   ],
   "source": [
    "np.all(train_1_if_filled+test_1_if_filled == (ratings_matrix!=0))"
   ]
  },
  {
   "cell_type": "code",
   "execution_count": 107,
   "metadata": {},
   "outputs": [],
   "source": [
    "neighbors, distances = knn(train_1_ratings_matrix, 3, cosine_similarity_distance)"
   ]
  },
  {
   "cell_type": "code",
   "execution_count": 108,
   "metadata": {},
   "outputs": [],
   "source": [
    "recommendation_matrix = calculate_recommendation(train_1_ratings_matrix, neighbors, distances)"
   ]
  },
  {
   "cell_type": "code",
   "execution_count": 109,
   "metadata": {},
   "outputs": [],
   "source": [
    "ratings_matrix_ind =  np.array(ratings_matrix!=0, dtype=float)"
   ]
  },
  {
   "cell_type": "code",
   "execution_count": 110,
   "metadata": {},
   "outputs": [
    {
     "name": "stdout",
     "output_type": "stream",
     "text": [
      "943 1682\n"
     ]
    },
    {
     "data": {
      "text/plain": [
       "array([[4, 4, 4, ..., 5, 2, 4],\n",
       "       [3, 1, 1, ..., 2, 2, 1],\n",
       "       [3, 2, 3, ..., 1, 1, 1],\n",
       "       ...,\n",
       "       [1, 3, 2, ..., 3, 2, 5],\n",
       "       [1, 1, 4, ..., 2, 1, 1],\n",
       "       [2, 2, 2, ..., 5, 2, 1]])"
      ]
     },
     "execution_count": 110,
     "metadata": {},
     "output_type": "execute_result"
    }
   ],
   "source": [
    "a,b =ratings_matrix_ind.shape\n",
    "print (a,b)\n",
    "dumb_pred = np.random.randint(1,6, size=a*b)\n",
    "dumb_pred.shape=(a,b)\n",
    "dumb_pred"
   ]
  },
  {
   "cell_type": "code",
   "execution_count": 111,
   "metadata": {},
   "outputs": [
    {
     "data": {
      "text/plain": [
       "1.878895952414609"
      ]
     },
     "execution_count": 111,
     "metadata": {},
     "output_type": "execute_result"
    }
   ],
   "source": [
    "rmse(ratings_matrix, dumb_pred,ratings_matrix_ind)"
   ]
  },
  {
   "cell_type": "code",
   "execution_count": 112,
   "metadata": {},
   "outputs": [
    {
     "data": {
      "text/plain": [
       "0.0"
      ]
     },
     "execution_count": 112,
     "metadata": {},
     "output_type": "execute_result"
    }
   ],
   "source": [
    "rmse(ratings_matrix, ratings_matrix,ratings_matrix_ind)"
   ]
  },
  {
   "cell_type": "markdown",
   "metadata": {},
   "source": [
    "# Validation"
   ]
  },
  {
   "cell_type": "code",
   "execution_count": 113,
   "metadata": {},
   "outputs": [],
   "source": [
    "def cross_val_testing(ratings_matrix):\n",
    "    results =[]\n",
    "    print(\"start\")\n",
    "    for ii in range(1,6):\n",
    "        iter_start_time = time.time()\n",
    "        #if(ii!=3):\n",
    "        #    continue\n",
    "        train = pd.read_csv('ml-100k/u{}.base'.format(ii), header=None, names=['user_id', 'item_id', 'rating', 'timestamp'], \n",
    "                             delim_whitespace=True)\n",
    "        test = pd.read_csv('ml-100k/u{}.test'.format(ii), header=None, names=['user_id', 'item_id', 'rating', 'timestamp'], \n",
    "                             delim_whitespace=True)\n",
    "\n",
    "        for col in  ['user_id', 'item_id']:\n",
    "            train[col] = train[col]-1\n",
    "            test[col] = test[col]-1\n",
    "        \n",
    "        train_ratings_matrix = np.array(pd.crosstab(index=pd.Categorical(train['user_id'],categories = [i for i in range(943)]), \n",
    "                                                    columns=pd.Categorical(train['item_id'],categories = [i for i in range(1682)]),\n",
    "                                                    values=train['rating'], aggfunc=np.sum, dropna= False).fillna(0).values)\n",
    "        test_ratings_matrix = np.array(pd.crosstab(index=pd.Categorical(test['user_id'],categories = [i for i in range(943)]), \n",
    "                                                    columns=pd.Categorical(test['item_id'],categories = [i for i in range(1682)]),\n",
    "                                                    values=test['rating'], aggfunc=np.sum, dropna= False).fillna(0).values)\n",
    "        \n",
    "        train_ratings_item_matrix = np.array(pd.crosstab(index=pd.Categorical(train['item_id'],categories = [i for i in range(1682)]), \n",
    "                                                    columns=pd.Categorical(train['user_id'],categories = [i for i in range(943)]),\n",
    "                                                    values=train['rating'], aggfunc=np.sum, dropna= False).fillna(0).values)       \n",
    "        \n",
    "        train_ind = np.array(train_ratings_matrix!=0, dtype=float)\n",
    "        test_ind = np.array(test_ratings_matrix!=0, dtype=float)\n",
    "        \n",
    "        print('Precalc time: ',  round((time.time()-iter_start_time)/60.0,3) )\n",
    "        \n",
    "        for k in [5,7,40]:        \n",
    "            for function_name,dist_function in zip(['jackard','cosine','better_cosine','pearson'],[jackard_similarity_distance, cosine_similarity_distance, better_cosine_similarity_distance, scipy_pearson_similarity_distance]):\n",
    "                for cf_type,rec_fun in zip(['u-u','i-i'],[calculate_recommendation, calculate_recommendation_item_based]):                       \n",
    "                    start_time = time.time()\n",
    "                    neighbors, distances = knn(train_ratings_matrix, k, dist_function) if cf_type =='u-u' \\\n",
    "                                        else knn(train_ratings_item_matrix, k, dist_function)\n",
    "                    recommendation_matrix = rec_fun(train_ratings_matrix, neighbors, distances)\n",
    "                    rmse_val = rmse(ratings_matrix, recommendation_matrix, test_ind)                    \n",
    "                    results.append([ii,cf_type,function_name,k, rmse_val, round((time.time()-start_time)/60.0,3)])\n",
    "                    print ([ii,cf_type,function_name,k, rmse_val, round((time.time()-start_time)/60.0,3)])\n",
    "        print(\"Iter time: \", iter_start_time)\n",
    "    return results"
   ]
  },
  {
   "cell_type": "code",
   "execution_count": null,
   "metadata": {},
   "outputs": [
    {
     "name": "stdout",
     "output_type": "stream",
     "text": [
      "start\n",
      "Precalc time:  0.882\n",
      "[1, 'u-u', 'jackard', 5, 2.0678695642161955, 0.753]\n",
      "[1, 'i-i', 'jackard', 5, 2.07939881363725, 1.105]\n",
      "[1, 'u-u', 'cosine', 5, 1.790693004650543, 1.066]\n",
      "[1, 'i-i', 'cosine', 5, 1.987919719749416, 2.12]\n",
      "[1, 'u-u', 'better_cosine', 5, 1.6600860504577652, 1.824]\n",
      "[1, 'i-i', 'better_cosine', 5, 2.052101876181985, 3.644]\n",
      "[1, 'u-u', 'pearson', 5, 1.9115458766052564, 1.577]\n",
      "[1, 'i-i', 'pearson', 5, 2.2035608655094836, 2.59]\n",
      "[1, 'u-u', 'jackard', 7, 1.87967003015912, 0.755]\n",
      "[1, 'i-i', 'jackard', 7, 1.8555065138352604, 1.105]\n",
      "[1, 'u-u', 'cosine', 7, 1.6265023101116074, 1.067]\n",
      "[1, 'i-i', 'cosine', 7, 1.7743913471075559, 2.08]\n",
      "[1, 'u-u', 'better_cosine', 7, 1.499771431941783, 1.822]\n",
      "[1, 'i-i', 'better_cosine', 7, 1.8150402534456915, 3.65]\n",
      "[1, 'u-u', 'pearson', 7, 1.7415663027302923, 1.577]\n",
      "[1, 'i-i', 'pearson', 7, 1.9708087128290266, 2.599]\n",
      "[1, 'u-u', 'jackard', 40, 1.2268218018519588, 0.768]\n",
      "[1, 'i-i', 'jackard', 40, 1.1573506315428252, 1.112]\n",
      "[1, 'u-u', 'cosine', 40, 1.1474598656684827, 1.082]\n",
      "[1, 'i-i', 'cosine', 40, 1.126978333917875, 2.117]\n",
      "[1, 'u-u', 'better_cosine', 40, 1.102252324669122, 1.858]\n",
      "[1, 'i-i', 'better_cosine', 40, 1.1934848647446075, 3.65]\n",
      "[1, 'u-u', 'pearson', 40, 1.1814517166681935, 1.597]\n"
     ]
    }
   ],
   "source": [
    "result = cross_val_testing(ratings_matrix) "
   ]
  },
  {
   "cell_type": "code",
   "execution_count": null,
   "metadata": {},
   "outputs": [],
   "source": []
  }
 ],
 "metadata": {
  "kernelspec": {
   "display_name": "Python 3 (ipykernel)",
   "language": "python",
   "name": "python3"
  },
  "language_info": {
   "codemirror_mode": {
    "name": "ipython",
    "version": 3
   },
   "file_extension": ".py",
   "mimetype": "text/x-python",
   "name": "python",
   "nbconvert_exporter": "python",
   "pygments_lexer": "ipython3",
   "version": "3.8.10"
  }
 },
 "nbformat": 4,
 "nbformat_minor": 4
}
