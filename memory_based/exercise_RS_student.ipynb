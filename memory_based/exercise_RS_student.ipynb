{
 "cells": [
  {
   "cell_type": "code",
   "execution_count": 1,
   "metadata": {
    "tags": []
   },
   "outputs": [],
   "source": [
    "from urllib import request\n",
    "import zipfile\n",
    "import time\n",
    "import numpy as np\n",
    "import pandas as pd\n",
    "import matplotlib.pyplot as plt"
   ]
  },
  {
   "cell_type": "markdown",
   "metadata": {},
   "source": [
    "Accessing data:"
   ]
  },
  {
   "cell_type": "code",
   "execution_count": 2,
   "metadata": {
    "tags": []
   },
   "outputs": [],
   "source": [
    "DATASET_URL = 'http://files.grouplens.org/datasets/movielens/ml-100k.zip'\n",
    "DATASET_ARCHIVE = 'ml-100k.zip'\n",
    "\n",
    "request.urlretrieve(DATASET_URL, DATASET_ARCHIVE)\n",
    "with zipfile.ZipFile(DATASET_ARCHIVE) as archive:\n",
    "    archive.extractall()"
   ]
  },
  {
   "cell_type": "markdown",
   "metadata": {},
   "source": [
    "# Exploratory Analysis "
   ]
  },
  {
   "cell_type": "markdown",
   "metadata": {},
   "source": [
    "### YOUR TASK:\n",
    "1. Check readme file (especially DETAILED DESCRIPTIONS OF DATA FILES section)\n",
    "2. What do we need to do for EDA, before starting building the model?"
   ]
  },
  {
   "cell_type": "markdown",
   "metadata": {},
   "source": [
    "This data set consists of:\n",
    "   * 100,000 ratings (1-5) from 943 users on 1682 movies. \n",
    "   * Each user has rated at least 20 movies. "
   ]
  },
  {
   "cell_type": "code",
   "execution_count": 3,
   "metadata": {
    "tags": []
   },
   "outputs": [],
   "source": [
    "users_num = 943\n",
    "movies_num = 1682"
   ]
  },
  {
   "cell_type": "markdown",
   "metadata": {},
   "source": [
    "How our data looks?"
   ]
  },
  {
   "cell_type": "code",
   "execution_count": 4,
   "metadata": {
    "tags": []
   },
   "outputs": [],
   "source": [
    "df = pd.read_csv('ml-100k/u.data', header=None, names=['user_id', 'item_id', 'rating', 'timestamp'], \n",
    "                 delim_whitespace=True)"
   ]
  },
  {
   "cell_type": "code",
   "execution_count": 5,
   "metadata": {
    "tags": []
   },
   "outputs": [
    {
     "data": {
      "text/html": [
       "<div>\n",
       "<style scoped>\n",
       "    .dataframe tbody tr th:only-of-type {\n",
       "        vertical-align: middle;\n",
       "    }\n",
       "\n",
       "    .dataframe tbody tr th {\n",
       "        vertical-align: top;\n",
       "    }\n",
       "\n",
       "    .dataframe thead th {\n",
       "        text-align: right;\n",
       "    }\n",
       "</style>\n",
       "<table border=\"1\" class=\"dataframe\">\n",
       "  <thead>\n",
       "    <tr style=\"text-align: right;\">\n",
       "      <th></th>\n",
       "      <th>user_id</th>\n",
       "      <th>item_id</th>\n",
       "      <th>rating</th>\n",
       "      <th>timestamp</th>\n",
       "    </tr>\n",
       "  </thead>\n",
       "  <tbody>\n",
       "    <tr>\n",
       "      <th>0</th>\n",
       "      <td>196</td>\n",
       "      <td>242</td>\n",
       "      <td>3</td>\n",
       "      <td>881250949</td>\n",
       "    </tr>\n",
       "    <tr>\n",
       "      <th>1</th>\n",
       "      <td>186</td>\n",
       "      <td>302</td>\n",
       "      <td>3</td>\n",
       "      <td>891717742</td>\n",
       "    </tr>\n",
       "    <tr>\n",
       "      <th>2</th>\n",
       "      <td>22</td>\n",
       "      <td>377</td>\n",
       "      <td>1</td>\n",
       "      <td>878887116</td>\n",
       "    </tr>\n",
       "    <tr>\n",
       "      <th>3</th>\n",
       "      <td>244</td>\n",
       "      <td>51</td>\n",
       "      <td>2</td>\n",
       "      <td>880606923</td>\n",
       "    </tr>\n",
       "    <tr>\n",
       "      <th>4</th>\n",
       "      <td>166</td>\n",
       "      <td>346</td>\n",
       "      <td>1</td>\n",
       "      <td>886397596</td>\n",
       "    </tr>\n",
       "  </tbody>\n",
       "</table>\n",
       "</div>"
      ],
      "text/plain": [
       "   user_id  item_id  rating  timestamp\n",
       "0      196      242       3  881250949\n",
       "1      186      302       3  891717742\n",
       "2       22      377       1  878887116\n",
       "3      244       51       2  880606923\n",
       "4      166      346       1  886397596"
      ]
     },
     "execution_count": 5,
     "metadata": {},
     "output_type": "execute_result"
    }
   ],
   "source": [
    "df.head()"
   ]
  },
  {
   "cell_type": "code",
   "execution_count": 6,
   "metadata": {
    "tags": []
   },
   "outputs": [
    {
     "data": {
      "text/html": [
       "<div>\n",
       "<style scoped>\n",
       "    .dataframe tbody tr th:only-of-type {\n",
       "        vertical-align: middle;\n",
       "    }\n",
       "\n",
       "    .dataframe tbody tr th {\n",
       "        vertical-align: top;\n",
       "    }\n",
       "\n",
       "    .dataframe thead th {\n",
       "        text-align: right;\n",
       "    }\n",
       "</style>\n",
       "<table border=\"1\" class=\"dataframe\">\n",
       "  <thead>\n",
       "    <tr style=\"text-align: right;\">\n",
       "      <th></th>\n",
       "      <th>user_id</th>\n",
       "      <th>item_id</th>\n",
       "      <th>rating</th>\n",
       "      <th>timestamp</th>\n",
       "    </tr>\n",
       "  </thead>\n",
       "  <tbody>\n",
       "    <tr>\n",
       "      <th>99995</th>\n",
       "      <td>880</td>\n",
       "      <td>476</td>\n",
       "      <td>3</td>\n",
       "      <td>880175444</td>\n",
       "    </tr>\n",
       "    <tr>\n",
       "      <th>99996</th>\n",
       "      <td>716</td>\n",
       "      <td>204</td>\n",
       "      <td>5</td>\n",
       "      <td>879795543</td>\n",
       "    </tr>\n",
       "    <tr>\n",
       "      <th>99997</th>\n",
       "      <td>276</td>\n",
       "      <td>1090</td>\n",
       "      <td>1</td>\n",
       "      <td>874795795</td>\n",
       "    </tr>\n",
       "    <tr>\n",
       "      <th>99998</th>\n",
       "      <td>13</td>\n",
       "      <td>225</td>\n",
       "      <td>2</td>\n",
       "      <td>882399156</td>\n",
       "    </tr>\n",
       "    <tr>\n",
       "      <th>99999</th>\n",
       "      <td>12</td>\n",
       "      <td>203</td>\n",
       "      <td>3</td>\n",
       "      <td>879959583</td>\n",
       "    </tr>\n",
       "  </tbody>\n",
       "</table>\n",
       "</div>"
      ],
      "text/plain": [
       "       user_id  item_id  rating  timestamp\n",
       "99995      880      476       3  880175444\n",
       "99996      716      204       5  879795543\n",
       "99997      276     1090       1  874795795\n",
       "99998       13      225       2  882399156\n",
       "99999       12      203       3  879959583"
      ]
     },
     "execution_count": 6,
     "metadata": {},
     "output_type": "execute_result"
    }
   ],
   "source": [
    "df.tail()"
   ]
  },
  {
   "cell_type": "markdown",
   "metadata": {},
   "source": [
    "Check if every pair (user, item) appears only once"
   ]
  },
  {
   "cell_type": "code",
   "execution_count": 7,
   "metadata": {
    "tags": []
   },
   "outputs": [
    {
     "data": {
      "text/plain": [
       "1"
      ]
     },
     "execution_count": 7,
     "metadata": {},
     "output_type": "execute_result"
    }
   ],
   "source": [
    "df.groupby(['user_id','item_id']).count().reset_index()['timestamp'].max()"
   ]
  },
  {
   "cell_type": "markdown",
   "metadata": {},
   "source": [
    "Check for nan"
   ]
  },
  {
   "cell_type": "code",
   "execution_count": 8,
   "metadata": {
    "tags": []
   },
   "outputs": [
    {
     "data": {
      "text/plain": [
       "array([3, 1, 2, 4, 5])"
      ]
     },
     "execution_count": 8,
     "metadata": {},
     "output_type": "execute_result"
    }
   ],
   "source": [
    "df['rating'].unique()"
   ]
  },
  {
   "cell_type": "markdown",
   "metadata": {},
   "source": [
    "Ratings distribution"
   ]
  },
  {
   "cell_type": "code",
   "execution_count": 9,
   "metadata": {
    "tags": []
   },
   "outputs": [
    {
     "data": {
      "text/plain": [
       "<Axes: ylabel='Frequency'>"
      ]
     },
     "execution_count": 9,
     "metadata": {},
     "output_type": "execute_result"
    },
    {
     "data": {
      "image/png": "[encoded data removed]",
      "text/plain": [
       "<Figure size 640x480 with 1 Axes>"
      ]
     },
     "metadata": {},
     "output_type": "display_data"
    }
   ],
   "source": [
    "df['rating'].plot.hist(xticks=[1,2,3,4,5])"
   ]
  },
  {
   "cell_type": "markdown",
   "metadata": {},
   "source": [
    "Choose one movie from u.info file and check its ratings"
   ]
  },
  {
   "cell_type": "code",
   "execution_count": 10,
   "metadata": {
    "tags": []
   },
   "outputs": [
    {
     "data": {
      "text/plain": [
       "<Axes: ylabel='Frequency'>"
      ]
     },
     "execution_count": 10,
     "metadata": {},
     "output_type": "execute_result"
    },
    {
     "data": {
      "image/png": "[encoded data removed]",
      "text/plain": [
       "<Figure size 640x480 with 1 Axes>"
      ]
     },
     "metadata": {},
     "output_type": "display_data"
    }
   ],
   "source": [
    "df[df.item_id == 168]['rating'].plot.hist(xticks=[1,2,3,4,5])"
   ]
  },
  {
   "cell_type": "markdown",
   "metadata": {},
   "source": [
    "#### Sparsity"
   ]
  },
  {
   "cell_type": "code",
   "execution_count": 11,
   "metadata": {
    "tags": []
   },
   "outputs": [
    {
     "data": {
      "text/html": [
       "<div>\n",
       "<style scoped>\n",
       "    .dataframe tbody tr th:only-of-type {\n",
       "        vertical-align: middle;\n",
       "    }\n",
       "\n",
       "    .dataframe tbody tr th {\n",
       "        vertical-align: top;\n",
       "    }\n",
       "\n",
       "    .dataframe thead th {\n",
       "        text-align: right;\n",
       "    }\n",
       "</style>\n",
       "<table border=\"1\" class=\"dataframe\">\n",
       "  <thead>\n",
       "    <tr style=\"text-align: right;\">\n",
       "      <th></th>\n",
       "      <th>rating_count</th>\n",
       "    </tr>\n",
       "    <tr>\n",
       "      <th>user_id</th>\n",
       "      <th></th>\n",
       "    </tr>\n",
       "  </thead>\n",
       "  <tbody>\n",
       "    <tr>\n",
       "      <th>405</th>\n",
       "      <td>737</td>\n",
       "    </tr>\n",
       "    <tr>\n",
       "      <th>655</th>\n",
       "      <td>685</td>\n",
       "    </tr>\n",
       "    <tr>\n",
       "      <th>13</th>\n",
       "      <td>636</td>\n",
       "    </tr>\n",
       "    <tr>\n",
       "      <th>450</th>\n",
       "      <td>540</td>\n",
       "    </tr>\n",
       "    <tr>\n",
       "      <th>276</th>\n",
       "      <td>518</td>\n",
       "    </tr>\n",
       "  </tbody>\n",
       "</table>\n",
       "</div>"
      ],
      "text/plain": [
       "         rating_count\n",
       "user_id              \n",
       "405               737\n",
       "655               685\n",
       "13                636\n",
       "450               540\n",
       "276               518"
      ]
     },
     "execution_count": 11,
     "metadata": {},
     "output_type": "execute_result"
    }
   ],
   "source": [
    "grouped = df[['user_id', 'item_id']].groupby('user_id').count() \\\n",
    "            .rename(columns={'item_id' : 'rating_count' }).sort_values('rating_count',ascending=False)\n",
    "grouped.head()"
   ]
  },
  {
   "cell_type": "code",
   "execution_count": 12,
   "metadata": {
    "tags": []
   },
   "outputs": [
    {
     "name": "stdout",
     "output_type": "stream",
     "text": [
      "         rating_count  sparsity\n",
      "user_id                        \n",
      "405               737  0.561831\n",
      "655               685  0.592747\n",
      "13                636  0.621879\n",
      "450               540  0.678954\n",
      "276               518  0.692033\n",
      "         rating_count  sparsity\n",
      "user_id                        \n",
      "685                20  0.988109\n",
      "475                20  0.988109\n",
      "36                 20  0.988109\n",
      "732                20  0.988109\n",
      "596                20  0.988109\n"
     ]
    }
   ],
   "source": [
    "grouped['sparsity'] = 1.0 - grouped.rating_count / float(movies_num)\n",
    "print(grouped.head())\n",
    "print(grouped.tail())"
   ]
  },
  {
   "cell_type": "code",
   "execution_count": 13,
   "metadata": {
    "tags": []
   },
   "outputs": [
    {
     "data": {
      "text/plain": [
       "0.9369533063577546"
      ]
     },
     "execution_count": 13,
     "metadata": {},
     "output_type": "execute_result"
    }
   ],
   "source": [
    "np.average(grouped['sparsity'])"
   ]
  },
  {
   "cell_type": "code",
   "execution_count": 14,
   "metadata": {
    "tags": []
   },
   "outputs": [
    {
     "data": {
      "text/plain": [
       "<Axes: ylabel='Frequency'>"
      ]
     },
     "execution_count": 14,
     "metadata": {},
     "output_type": "execute_result"
    },
    {
     "data": {
      "image/png": "[encoded data removed]",
      "text/plain": [
       "<Figure size 640x480 with 1 Axes>"
      ]
     },
     "metadata": {},
     "output_type": "display_data"
    }
   ],
   "source": [
    "grouped['sparsity'].plot.hist(xticks=[i*0.1 for i in range(1,11)])"
   ]
  },
  {
   "cell_type": "code",
   "execution_count": 15,
   "metadata": {
    "tags": []
   },
   "outputs": [
    {
     "data": {
      "text/plain": [
       "<Axes: ylabel='Frequency'>"
      ]
     },
     "execution_count": 15,
     "metadata": {},
     "output_type": "execute_result"
    },
    {
     "data": {
      "image/png": "[encoded data removed]",
      "text/plain": [
       "<Figure size 640x480 with 1 Axes>"
      ]
     },
     "metadata": {},
     "output_type": "display_data"
    }
   ],
   "source": [
    "grouped['sparsity'].plot.hist(xticks=[0.5+i*0.05 for i in range(10)])"
   ]
  },
  {
   "cell_type": "markdown",
   "metadata": {},
   "source": [
    "Reindex ids to numpy's like"
   ]
  },
  {
   "cell_type": "code",
   "execution_count": 16,
   "metadata": {
    "tags": []
   },
   "outputs": [
    {
     "data": {
      "text/plain": [
       "[(1, 943), (1, 1682)]"
      ]
     },
     "execution_count": 16,
     "metadata": {},
     "output_type": "execute_result"
    }
   ],
   "source": [
    "[(df[x].min(),df[x].max()) for  x in ['user_id', 'item_id']]"
   ]
  },
  {
   "cell_type": "code",
   "execution_count": 17,
   "metadata": {
    "tags": []
   },
   "outputs": [],
   "source": [
    "for col in  ['user_id', 'item_id']:\n",
    "    df[col] = df[col]-1"
   ]
  },
  {
   "cell_type": "code",
   "execution_count": 18,
   "metadata": {
    "tags": []
   },
   "outputs": [
    {
     "data": {
      "text/plain": [
       "[(0, 942), (0, 1681)]"
      ]
     },
     "execution_count": 18,
     "metadata": {},
     "output_type": "execute_result"
    }
   ],
   "source": [
    "[(df[x].min(),df[x].max()) for  x in ['user_id', 'item_id']]"
   ]
  },
  {
   "cell_type": "markdown",
   "metadata": {},
   "source": [
    "# User-User CF"
   ]
  },
  {
   "cell_type": "markdown",
   "metadata": {},
   "source": [
    "Firstly we want to have our data in form of matrix, where rows coresponds to users, columns to items and values to ratings\n",
    "\n",
    "YOUR TASK:\n",
    "1. get reccomendation matrix, where users are in rows and movies are in columns\n",
    "2. What to do with missing values (i.e. pairs of users,movie that have no rating in our dataset)?\n",
    "3. We want this matrix to be called 'ratings_matrix' and be a np.ndarray type\n",
    "\n",
    "tip: check dataframe.pivot or pd.crosstab"
   ]
  },
  {
   "cell_type": "code",
   "execution_count": 19,
   "metadata": {
    "tags": []
   },
   "outputs": [
    {
     "name": "stdout",
     "output_type": "stream",
     "text": [
      "[[5 3 4 ... 0 0 0]\n",
      " [4 0 0 ... 0 0 0]\n",
      " [0 0 0 ... 0 0 0]\n",
      " ...\n",
      " [5 0 0 ... 0 0 0]\n",
      " [0 0 0 ... 0 0 0]\n",
      " [0 5 0 ... 0 0 0]]\n"
     ]
    }
   ],
   "source": [
    "ratings_matrix = np.zeros((users_num, movies_num), dtype='int32')\n",
    "for i, j, v, _ in df.values:\n",
    "    ratings_matrix[i, j] = v\n",
    "print(ratings_matrix)"
   ]
  },
  {
   "cell_type": "markdown",
   "metadata": {},
   "source": [
    "Similarity functions:\n",
    "* Jackard similarity\n",
    "* cosine similarity\n",
    "* Pearson correlation"
   ]
  },
  {
   "cell_type": "code",
   "execution_count": 20,
   "metadata": {
    "tags": []
   },
   "outputs": [],
   "source": [
    "def jackard_similarity_distance(M):\n",
    "    n,k = M.shape\n",
    "    distance_matrix = np.zeros([n,n])\n",
    "    for i in range(n):\n",
    "        for j in range(n):\n",
    "            vec_sum = float(np.count_nonzero(M[i]+M[j]))\n",
    "            if vec_sum == 0:\n",
    "                distance_matrix[i,j]= 1\n",
    "            else:\n",
    "                distance_matrix[i,j] = 1 - np.count_nonzero(M[i]*M[j]) / vec_sum\n",
    "    return distance_matrix"
   ]
  },
  {
   "cell_type": "code",
   "execution_count": 21,
   "metadata": {
    "tags": []
   },
   "outputs": [
    {
     "data": {
      "text/plain": [
       "array([[0.        , 0.94303797, 0.97484277, ..., 0.96478873, 0.91666667,\n",
       "        0.767507  ],\n",
       "       [0.94303797, 0.        , 0.91588785, ..., 0.90909091, 0.90697674,\n",
       "        0.95927602],\n",
       "       [0.97484277, 0.91588785, 0.        , ..., 0.94444444, 0.92741935,\n",
       "        0.99090909],\n",
       "       ...,\n",
       "       [0.96478873, 0.90909091, 0.94444444, ..., 0.        , 0.95876289,\n",
       "        0.97297297],\n",
       "       [0.91666667, 0.90697674, 0.92741935, ..., 0.95876289, 0.        ,\n",
       "        0.91666667],\n",
       "       [0.767507  , 0.95927602, 0.99090909, ..., 0.97297297, 0.91666667,\n",
       "        0.        ]])"
      ]
     },
     "execution_count": 21,
     "metadata": {},
     "output_type": "execute_result"
    }
   ],
   "source": [
    "jackard_similarity_distance(ratings_matrix)"
   ]
  },
  {
   "cell_type": "markdown",
   "metadata": {},
   "source": [
    "## YOUR TASK\n",
    "1. Implement cosine_similarity_distance based on jackard_similarity_distance\n",
    "2. Implement scipy_pearson_similarity_distance based on jackard_similarity_distance"
   ]
  },
  {
   "cell_type": "code",
   "execution_count": 25,
   "metadata": {
    "tags": []
   },
   "outputs": [],
   "source": [
    "def cosine_similarity_distance(M):\n",
    "    n,k = M.shape\n",
    "    distance_matrix = np.array(np.zeros([n,n]))\n",
    "    for i, r1 in enumerate(M):\n",
    "        for j, r2 in enumerate(M):\n",
    "            distance_matrix[i, j] = 1 - np.dot(r1, r2)/(np.sqrt(np.sum(r1 ** 2)) * np.sqrt(np.sum(r2 ** 2)))\n",
    "    return distance_matrix # n x n matrix, where M is n x k matrix"
   ]
  },
  {
   "cell_type": "code",
   "execution_count": 26,
   "metadata": {
    "tags": []
   },
   "outputs": [
    {
     "data": {
      "text/plain": [
       "array([[ 0.00000000e+00,  8.33069016e-01,  9.52540457e-01, ...,\n",
       "         8.51383057e-01,  8.20492117e-01,  6.01825261e-01],\n",
       "       [ 8.33069016e-01, -2.22044605e-16,  8.89408675e-01, ...,\n",
       "         8.38515222e-01,  8.27732187e-01,  8.94202122e-01],\n",
       "       [ 9.52540457e-01,  8.89408675e-01,  0.00000000e+00, ...,\n",
       "         8.98757435e-01,  8.66583851e-01,  9.73444131e-01],\n",
       "       ...,\n",
       "       [ 8.51383057e-01,  8.38515222e-01,  8.98757435e-01, ...,\n",
       "         0.00000000e+00,  8.98358201e-01,  9.04880419e-01],\n",
       "       [ 8.20492117e-01,  8.27732187e-01,  8.66583851e-01, ...,\n",
       "         8.98358201e-01, -2.22044605e-16,  8.17535338e-01],\n",
       "       [ 6.01825261e-01,  8.94202122e-01,  9.73444131e-01, ...,\n",
       "         9.04880419e-01,  8.17535338e-01, -2.22044605e-16]])"
      ]
     },
     "execution_count": 26,
     "metadata": {},
     "output_type": "execute_result"
    }
   ],
   "source": [
    "cosine_similarity_distance(ratings_matrix)"
   ]
  },
  {
   "cell_type": "markdown",
   "metadata": {},
   "source": [
    "#### Can we upgrade this cosine similarity?"
   ]
  },
  {
   "cell_type": "code",
   "execution_count": 27,
   "metadata": {},
   "outputs": [],
   "source": [
    "from scipy.stats import pearsonr\n",
    "def scipy_pearson_similarity_distance(M):\n",
    "    n,k = M.shape\n",
    "    distance_matrix = np.array(np.zeros([n,n]))\n",
    "    for i, r1 in enumerate(M):\n",
    "        for j, r2 in enumerate(M):\n",
    "            distance_matrix[i, j] = 1- pearsonr(r1, r2).statistic\n",
    "    return distance_matrix # n x n matrix, where M is n x k matrix"
   ]
  },
  {
   "cell_type": "code",
   "execution_count": 28,
   "metadata": {
    "collapsed": true,
    "jupyter": {
     "outputs_hidden": true
    }
   },
   "outputs": [
    {
     "ename": "KeyboardInterrupt",
     "evalue": "",
     "output_type": "error",
     "traceback": [
      "\u001b[0;31m---------------------------------------------------------------------------\u001b[0m",
      "\u001b[0;31mKeyboardInterrupt\u001b[0m                         Traceback (most recent call last)",
      "Cell \u001b[0;32mIn[28], line 1\u001b[0m\n\u001b[0;32m----> 1\u001b[0m \u001b[43mscipy_pearson_similarity_distance\u001b[49m\u001b[43m(\u001b[49m\u001b[43mratings_matrix\u001b[49m\u001b[43m)\u001b[49m\n",
      "Cell \u001b[0;32mIn[27], line 7\u001b[0m, in \u001b[0;36mscipy_pearson_similarity_distance\u001b[0;34m(M)\u001b[0m\n\u001b[1;32m      5\u001b[0m \u001b[38;5;28;01mfor\u001b[39;00m i, r1 \u001b[38;5;129;01min\u001b[39;00m \u001b[38;5;28menumerate\u001b[39m(M):\n\u001b[1;32m      6\u001b[0m     \u001b[38;5;28;01mfor\u001b[39;00m j, r2 \u001b[38;5;129;01min\u001b[39;00m \u001b[38;5;28menumerate\u001b[39m(M):\n\u001b[0;32m----> 7\u001b[0m         distance_matrix[i, j] \u001b[38;5;241m=\u001b[39m \u001b[38;5;241m1\u001b[39m\u001b[38;5;241m-\u001b[39m \u001b[43mpearsonr\u001b[49m\u001b[43m(\u001b[49m\u001b[43mr1\u001b[49m\u001b[43m,\u001b[49m\u001b[43m \u001b[49m\u001b[43mr2\u001b[49m\u001b[43m)\u001b[49m\u001b[38;5;241m.\u001b[39mstatistic\n\u001b[1;32m      8\u001b[0m \u001b[38;5;28;01mreturn\u001b[39;00m distance_matrix\n",
      "File \u001b[0;32m/usr/local/lib/python3.8/dist-packages/scipy/stats/_stats_py.py:4440\u001b[0m, in \u001b[0;36mpearsonr\u001b[0;34m(x, y, alternative)\u001b[0m\n\u001b[1;32m   4436\u001b[0m     result \u001b[38;5;241m=\u001b[39m PearsonRResult(statistic\u001b[38;5;241m=\u001b[39mr, pvalue\u001b[38;5;241m=\u001b[39m\u001b[38;5;241m1.0\u001b[39m, n\u001b[38;5;241m=\u001b[39mn,\n\u001b[1;32m   4437\u001b[0m                             alternative\u001b[38;5;241m=\u001b[39malternative)\n\u001b[1;32m   4438\u001b[0m     \u001b[38;5;28;01mreturn\u001b[39;00m result\n\u001b[0;32m-> 4440\u001b[0m xmean \u001b[38;5;241m=\u001b[39m \u001b[43mx\u001b[49m\u001b[38;5;241;43m.\u001b[39;49m\u001b[43mmean\u001b[49m\u001b[43m(\u001b[49m\u001b[43mdtype\u001b[49m\u001b[38;5;241;43m=\u001b[39;49m\u001b[43mdtype\u001b[49m\u001b[43m)\u001b[49m\n\u001b[1;32m   4441\u001b[0m ymean \u001b[38;5;241m=\u001b[39m y\u001b[38;5;241m.\u001b[39mmean(dtype\u001b[38;5;241m=\u001b[39mdtype)\n\u001b[1;32m   4443\u001b[0m \u001b[38;5;66;03m# By using `astype(dtype)`, we ensure that the intermediate calculations\u001b[39;00m\n\u001b[1;32m   4444\u001b[0m \u001b[38;5;66;03m# use at least 64 bit floating point.\u001b[39;00m\n",
      "File \u001b[0;32m/usr/local/lib/python3.8/dist-packages/numpy/core/_methods.py:164\u001b[0m, in \u001b[0;36m_mean\u001b[0;34m(a, axis, dtype, out, keepdims, where)\u001b[0m\n\u001b[1;32m    160\u001b[0m     \u001b[38;5;28;01melse\u001b[39;00m:\n\u001b[1;32m    161\u001b[0m         \u001b[38;5;28;01mreturn\u001b[39;00m _clip_dep_invoke_with_casting(\n\u001b[1;32m    162\u001b[0m             um\u001b[38;5;241m.\u001b[39mclip, a, \u001b[38;5;28mmin\u001b[39m, \u001b[38;5;28mmax\u001b[39m, out\u001b[38;5;241m=\u001b[39mout, casting\u001b[38;5;241m=\u001b[39mcasting, \u001b[38;5;241m*\u001b[39m\u001b[38;5;241m*\u001b[39mkwargs)\n\u001b[0;32m--> 164\u001b[0m \u001b[38;5;28;01mdef\u001b[39;00m \u001b[38;5;21m_mean\u001b[39m(a, axis\u001b[38;5;241m=\u001b[39m\u001b[38;5;28;01mNone\u001b[39;00m, dtype\u001b[38;5;241m=\u001b[39m\u001b[38;5;28;01mNone\u001b[39;00m, out\u001b[38;5;241m=\u001b[39m\u001b[38;5;28;01mNone\u001b[39;00m, keepdims\u001b[38;5;241m=\u001b[39m\u001b[38;5;28;01mFalse\u001b[39;00m, \u001b[38;5;241m*\u001b[39m, where\u001b[38;5;241m=\u001b[39m\u001b[38;5;28;01mTrue\u001b[39;00m):\n\u001b[1;32m    165\u001b[0m     arr \u001b[38;5;241m=\u001b[39m asanyarray(a)\n\u001b[1;32m    167\u001b[0m     is_float16_result \u001b[38;5;241m=\u001b[39m \u001b[38;5;28;01mFalse\u001b[39;00m\n",
      "\u001b[0;31mKeyboardInterrupt\u001b[0m: "
     ]
    }
   ],
   "source": [
    "scipy_pearson_similarity_distance(ratings_matrix)"
   ]
  },
  {
   "cell_type": "markdown",
   "metadata": {},
   "source": [
    "## YOUR TASK\n",
    "1. Implement knn that takes similarity_function as one of the inputs\n",
    "2. The function should return idx, sorted_dist - two matrixes:\n",
    " * idx of shape n x k that contains indexes of simmilar users\n",
    " * sorted_dist of shape n x k that contains distances to these users\n"
   ]
  },
  {
   "cell_type": "code",
   "execution_count": 21,
   "metadata": {},
   "outputs": [],
   "source": [
    "def knn(ratings_matrix, k, similarity_function):\n",
    "    dist_matrix = similarity_function(ratings_matrix)\n",
    "    idx = np.argsort(dist_matrix)[:, 1:k+1]\n",
    "    sortest_dist = np.take_along_axis(dist_matrix, idx, axis=1)\n",
    "    return idx, sorted_dist # two n x k matrix"
   ]
  },
  {
   "cell_type": "markdown",
   "metadata": {},
   "source": [
    "## YOUR TASK\n",
    "1. implement calculate_recommendation function - it should return reccomendation_matrix\n",
    "<!--\n",
    "def calculate_recommendation(ratings_matrix, neighbors, distances):\n",
    "    u,k = neighbors.shape\n",
    "    p = ratings_matrix.shape[1]\n",
    "    rating_matrix_ind = np.array(ratings_matrix!=0, dtype=float)\n",
    "    recommendation_matrix = np.zeros([u,p])\n",
    "    for i in range(u):\n",
    "        for j in range(p):\n",
    "            numerator = np.sum((1-distances[i,:])*ratings_matrix[neighbors[i],j])\n",
    "            denominator = np.sum((1-distances[i,:])*rating_matrix_ind[neighbors[i],j])\n",
    "            if(denominator==0):\n",
    "                recommendation_matrix[i,j] = 0\n",
    "            else:\n",
    "                recommendation_matrix[i,j] = numerator / float(denominator)\n",
    "    return recommendation_matrix\n",
    "<!--\n",
    "def get_recommendation(recommendation_matrix, n):\n",
    "    rating_ind = np.array(ratings_matrix!=0, dtype=float)\n",
    "    recommendation = np.argsort(-np.multiply(recommendation_matrix,1-rating_ind))[:,:n]\n",
    "    ratings = np.take_along_axis(recommendation_matrix, recommendation, axis=1) \n",
    "    return recommendation, ratings\n",
    "!-->"
   ]
  },
  {
   "cell_type": "code",
   "execution_count": 22,
   "metadata": {},
   "outputs": [],
   "source": [
    "def calculate_recommendation(ratings_matrix, neighbors, distances):\n",
    "     #insert your code here ~ 8-12 lines\n",
    "    return recommendation_matrix # same shape as ratings_matrix filled with our prediction"
   ]
  },
  {
   "cell_type": "code",
   "execution_count": 24,
   "metadata": {},
   "outputs": [],
   "source": [
    "def get_recommendation(recommendation_matrix, n):\n",
    "    # insert your code here ~ 3 lines\n",
    "    return recommendation, ratings # n recommendations for every user and estimated ratings"
   ]
  },
  {
   "cell_type": "markdown",
   "metadata": {},
   "source": [
    "# Item-Item CF"
   ]
  },
  {
   "cell_type": "markdown",
   "metadata": {},
   "source": [
    "YOUR TASK:\n",
    "1. What we have to change in order to change user-user into item-item approach?\n",
    "\n",
    "<!-- \n",
    "\n",
    "def calculate_recommendation_item_based(ratings_matrix, item_neighbors, item_distances): # to get arguments run previous knn \n",
    "    # on ratings_item_matrix\n",
    "    p,k = item_neighbors.shape\n",
    "    u = ratings_matrix.shape[0]\n",
    "    rating_matrix_ind = np.array(ratings_matrix!=0, dtype=float)\n",
    "    recommendation_matrix = np.array(np.zeros(u*p))\n",
    "    recommendation_matrix.shape = (u,p)\n",
    "    for i in range(u):\n",
    "        for j in range(p):\n",
    "            numerator = np.sum((1-item_distances[j,:])*ratings_matrix[i,item_neighbors[j]])\n",
    "            denominator = np.sum((1-item_distances[j,:])*rating_matrix_ind[i, item_neighbors[j]])\n",
    "            if(denominator==0):\n",
    "                recommendation_matrix[i,j] = 0\n",
    "            else:\n",
    "                recommendation_matrix[i,j] = numerator / float(denominator)\n",
    "    return recommendation_matrix\n",
    "\n",
    "-->\n"
   ]
  },
  {
   "cell_type": "markdown",
   "metadata": {},
   "source": [
    "<!-- This is commented out. -->"
   ]
  },
  {
   "cell_type": "code",
   "execution_count": 27,
   "metadata": {},
   "outputs": [],
   "source": [
    "def calculate_recommendation_item_based(ratings_matrix, item_neighbors, item_distances):\n",
    "    #insert your code here ~ 8-12 lines (most code can be pasted from previous calculate_recommendation)\n",
    "    return recommendation_matrix"
   ]
  },
  {
   "cell_type": "markdown",
   "metadata": {},
   "source": [
    "### RMSE\n",
    "\n",
    "#### YOUR TASK:\n",
    "\n",
    "1. Implement rmse function. it should take ratings_matrix (ground truth), recommendation_matrix (given by model) and information where the test cases are (test_ind). All input matrixes are of the same shape"
   ]
  },
  {
   "cell_type": "code",
   "execution_count": 35,
   "metadata": {},
   "outputs": [],
   "source": [
    "def rmse(ratings_matrix,recommendation_matrix, test_ind):\n",
    "    #insert your code here ~ 2-4 lines\n",
    "    return output"
   ]
  },
  {
   "cell_type": "markdown",
   "metadata": {},
   "source": [
    "# Testing"
   ]
  },
  {
   "cell_type": "code",
   "execution_count": 28,
   "metadata": {},
   "outputs": [],
   "source": [
    "train_1 = pd.read_csv('ml-100k/u1.base', header=None, names=['user_id', 'item_id', 'rating', 'timestamp'], \n",
    "                 delim_whitespace=True)\n",
    "test_1 = pd.read_csv('ml-100k/u1.test', header=None, names=['user_id', 'item_id', 'rating', 'timestamp'], \n",
    "                 delim_whitespace=True)"
   ]
  },
  {
   "cell_type": "code",
   "execution_count": 29,
   "metadata": {},
   "outputs": [],
   "source": [
    "for col in  ['user_id', 'item_id']:\n",
    "    train_1[col] = train_1[col]-1\n",
    "    test_1[col] = test_1[col]-1"
   ]
  },
  {
   "cell_type": "code",
   "execution_count": 30,
   "metadata": {},
   "outputs": [],
   "source": [
    "train_1_ratings_matrix = np.matrix(pd.crosstab(index=pd.Categorical(train_1['user_id'],categories = [i for i in range(943)]), \n",
    "                              columns=pd.Categorical(train_1['item_id'],categories = [i for i in range(1682)]),\n",
    "                             values=train_1['rating'], aggfunc=np.sum, dropna= False).fillna(0).values)\n",
    "test_1_ratings_matrix = np.matrix(pd.crosstab(index=pd.Categorical(test_1['user_id'],categories = [i for i in range(943)]), \n",
    "                              columns=pd.Categorical(test_1['item_id'],categories = [i for i in range(1682)]),\n",
    "                             values=test_1['rating'], aggfunc=np.sum, dropna= False).fillna(0).values)"
   ]
  },
  {
   "cell_type": "markdown",
   "metadata": {},
   "source": [
    "#### YOUR TASK:\n",
    "\n",
    "1. Check if train + test is equal to full data_set"
   ]
  },
  {
   "cell_type": "code",
   "execution_count": null,
   "metadata": {},
   "outputs": [],
   "source": [
    "#insert your code here ~ 1-2 lines"
   ]
  },
  {
   "cell_type": "markdown",
   "metadata": {},
   "source": [
    "#### YOUR TASK:\n",
    "\n",
    "1. How to check what is the base line for the model?\n",
    "\n",
    "<!--\n",
    "neighbors, distances = knn(train_1_ratings_matrix, 3, cosine_similarity_distance)\n",
    "recommendation_matrix = calculate_recommendation(train_1_ratings_matrix, neighbors, distances)\n",
    "ratings_matrix_ind =  np.array(ratings_matrix!=0, dtype=float)\n",
    "a,b =ratings_matrix_ind.shape\n",
    "print (a,b)\n",
    "dumb_pred = np.random.randint(1,6, size=a*b)\n",
    "dumb_pred.shape=(a,b)\n",
    "dumb_pred\n",
    "rmse(ratings_matrix, dumb_pred,ratings_matrix_ind)\n",
    "-->"
   ]
  },
  {
   "cell_type": "code",
   "execution_count": 34,
   "metadata": {},
   "outputs": [],
   "source": [
    "#insert your code here ~ 5-6 lines"
   ]
  },
  {
   "cell_type": "markdown",
   "metadata": {},
   "source": [
    "# Validation"
   ]
  },
  {
   "cell_type": "code",
   "execution_count": 43,
   "metadata": {},
   "outputs": [],
   "source": [
    "def cross_val_testing(ratings_matrix):\n",
    "    results =[]\n",
    "    print(\"start\")\n",
    "    for ii in range(1,6):\n",
    "        iter_start_time = time.time()\n",
    "        train = pd.read_csv('ml-100k/u{}.base'.format(ii), header=None, names=['user_id', 'item_id', 'rating', 'timestamp'], \n",
    "                             delim_whitespace=True)\n",
    "        test = pd.read_csv('ml-100k/u{}.test'.format(ii), header=None, names=['user_id', 'item_id', 'rating', 'timestamp'], \n",
    "                             delim_whitespace=True)\n",
    "\n",
    "        for col in  ['user_id', 'item_id']:\n",
    "            train[col] = train[col]-1\n",
    "            test[col] = test[col]-1\n",
    "        \n",
    "        train_ratings_matrix = np.array(pd.crosstab(index=pd.Categorical(train['user_id'],categories = [i for i in range(943)]), \n",
    "                                                    columns=pd.Categorical(train['item_id'],categories = [i for i in range(1682)]),\n",
    "                                                    values=train['rating'], aggfunc=np.sum, dropna= False).fillna(0).values)\n",
    "        test_ratings_matrix = np.array(pd.crosstab(index=pd.Categorical(test['user_id'],categories = [i for i in range(943)]), \n",
    "                                                    columns=pd.Categorical(test['item_id'],categories = [i for i in range(1682)]),\n",
    "                                                    values=test['rating'], aggfunc=np.sum, dropna= False).fillna(0).values)\n",
    "        \n",
    "        train_ratings_item_matrix = np.array(pd.crosstab(index=pd.Categorical(train['item_id'],categories = [i for i in range(1682)]), \n",
    "                                                    columns=pd.Categorical(train['user_id'],categories = [i for i in range(943)]),\n",
    "                                                    values=train['rating'], aggfunc=np.sum, dropna= False).fillna(0).values)       \n",
    "        \n",
    "        train_ind = np.array(train_ratings_matrix!=0, dtype=float)\n",
    "        test_ind = np.array(test_ratings_matrix!=0, dtype=float)\n",
    "        \n",
    "        print('Precalc time: ',  round((time.time()-iter_start_time)/60.0,3) )\n",
    "        \n",
    "        for k in [5,7,40]:        \n",
    "            for function_name,dist_function in zip(['jackard','cosine','better_cosine','pearson'],[jackard_similarity_distance, cosine_similarity_distance, better_cosine_similarity_distance, scipy_pearson_similarity_distance]):\n",
    "                for cf_type,rec_fun in zip(['u-u','i-i'],[calculate_recommendation, calculate_recommendation_item_based]):                       \n",
    "                    start_time = time.time()\n",
    "                    neighbors, distances = knn(train_ratings_matrix, k, dist_function) if cf_type =='u-u' \\\n",
    "                                        else knn(train_ratings_item_matrix, k, dist_function)\n",
    "                    recommendation_matrix = rec_fun(train_ratings_matrix, neighbors, distances)\n",
    "                    rmse_val = rmse(ratings_matrix, recommendation_matrix, test_ind)\n",
    "                    results.append([ii,cf_type,function_name,k, rmse_val, round((time.time()-start_time)/60.0,3)])\n",
    "                    print ([ii,cf_type,function_name,k, rmse_val, round((time.time()-start_time)/60.0,3)])\n",
    "        print(\"Iter time: \", iter_start_time)\n",
    "    return results"
   ]
  },
  {
   "cell_type": "code",
   "execution_count": 3,
   "metadata": {},
   "outputs": [],
   "source": [
    "result = cross_val_testing(ratings_matrix)"
   ]
  }
 ],
 "metadata": {
  "kernelspec": {
   "display_name": "Python 3 (ipykernel)",
   "language": "python",
   "name": "python3"
  },
  "language_info": {
   "codemirror_mode": {
    "name": "ipython",
    "version": 3
   },
   "file_extension": ".py",
   "mimetype": "text/x-python",
   "name": "python",
   "nbconvert_exporter": "python",
   "pygments_lexer": "ipython3",
   "version": "3.8.10"
  }
 },
 "nbformat": 4,
 "nbformat_minor": 4
}
